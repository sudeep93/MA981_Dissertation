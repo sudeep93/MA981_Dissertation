{
 "cells": [
  {
   "cell_type": "code",
   "execution_count": 1,
   "id": "32342112",
   "metadata": {},
   "outputs": [],
   "source": [
    "# pip install surprise"
   ]
  },
  {
   "cell_type": "code",
   "execution_count": 43,
   "id": "43561fef",
   "metadata": {},
   "outputs": [],
   "source": [
    "%matplotlib inline\n",
    "import pandas as pd\n",
    "import numpy as np\n",
    "import matplotlib.pyplot as plt\n",
    "import seaborn as sns\n",
    "from scipy import stats\n",
    "from ast import literal_eval\n",
    "from sklearn.feature_extraction.text import TfidfVectorizer, CountVectorizer\n",
    "from sklearn.metrics.pairwise import linear_kernel, cosine_similarity\n",
    "from nltk.stem.snowball import SnowballStemmer\n",
    "from nltk.stem.wordnet import WordNetLemmatizer\n",
    "from nltk.corpus import wordnet\n",
    "from surprise import Reader\n",
    "from surprise import SVD\n",
    "import emoji\n",
    "import pickle\n",
    "# from surprise import evaluate\n",
    "from surprise import Dataset\n",
    "from surprise.model_selection import cross_validate\n",
    "from sklearn.feature_extraction.text import CountVectorizer\n",
    "from sklearn.metrics.pairwise import cosine_similarity\n",
    "from rake_nltk import Rake\n",
    "\n",
    "import warnings; warnings.simplefilter('ignore')"
   ]
  },
  {
   "cell_type": "code",
   "execution_count": 44,
   "id": "06153826",
   "metadata": {},
   "outputs": [
    {
     "data": {
      "text/html": [
       "<div>\n",
       "<style scoped>\n",
       "    .dataframe tbody tr th:only-of-type {\n",
       "        vertical-align: middle;\n",
       "    }\n",
       "\n",
       "    .dataframe tbody tr th {\n",
       "        vertical-align: top;\n",
       "    }\n",
       "\n",
       "    .dataframe thead th {\n",
       "        text-align: right;\n",
       "    }\n",
       "</style>\n",
       "<table border=\"1\" class=\"dataframe\">\n",
       "  <thead>\n",
       "    <tr style=\"text-align: right;\">\n",
       "      <th></th>\n",
       "      <th>adult</th>\n",
       "      <th>belongs_to_collection</th>\n",
       "      <th>budget</th>\n",
       "      <th>genres</th>\n",
       "      <th>homepage</th>\n",
       "      <th>id</th>\n",
       "      <th>imdb_id</th>\n",
       "      <th>original_language</th>\n",
       "      <th>original_title</th>\n",
       "      <th>overview</th>\n",
       "      <th>...</th>\n",
       "      <th>release_date</th>\n",
       "      <th>revenue</th>\n",
       "      <th>runtime</th>\n",
       "      <th>spoken_languages</th>\n",
       "      <th>status</th>\n",
       "      <th>tagline</th>\n",
       "      <th>title</th>\n",
       "      <th>video</th>\n",
       "      <th>vote_average</th>\n",
       "      <th>vote_count</th>\n",
       "    </tr>\n",
       "  </thead>\n",
       "  <tbody>\n",
       "    <tr>\n",
       "      <th>0</th>\n",
       "      <td>False</td>\n",
       "      <td>{'id': 10194, 'name': 'Toy Story Collection', ...</td>\n",
       "      <td>30000000</td>\n",
       "      <td>[{'id': 16, 'name': 'Animation'}, {'id': 35, '...</td>\n",
       "      <td>http://toystory.disney.com/toy-story</td>\n",
       "      <td>862</td>\n",
       "      <td>tt0114709</td>\n",
       "      <td>en</td>\n",
       "      <td>Toy Story</td>\n",
       "      <td>Led by Woody, Andy's toys live happily in his ...</td>\n",
       "      <td>...</td>\n",
       "      <td>1995-10-30</td>\n",
       "      <td>373554033.0</td>\n",
       "      <td>81.0</td>\n",
       "      <td>[{'iso_639_1': 'en', 'name': 'English'}]</td>\n",
       "      <td>Released</td>\n",
       "      <td>NaN</td>\n",
       "      <td>Toy Story</td>\n",
       "      <td>False</td>\n",
       "      <td>7.7</td>\n",
       "      <td>5415.0</td>\n",
       "    </tr>\n",
       "    <tr>\n",
       "      <th>1</th>\n",
       "      <td>False</td>\n",
       "      <td>NaN</td>\n",
       "      <td>65000000</td>\n",
       "      <td>[{'id': 12, 'name': 'Adventure'}, {'id': 14, '...</td>\n",
       "      <td>NaN</td>\n",
       "      <td>8844</td>\n",
       "      <td>tt0113497</td>\n",
       "      <td>en</td>\n",
       "      <td>Jumanji</td>\n",
       "      <td>When siblings Judy and Peter discover an encha...</td>\n",
       "      <td>...</td>\n",
       "      <td>1995-12-15</td>\n",
       "      <td>262797249.0</td>\n",
       "      <td>104.0</td>\n",
       "      <td>[{'iso_639_1': 'en', 'name': 'English'}, {'iso...</td>\n",
       "      <td>Released</td>\n",
       "      <td>Roll the dice and unleash the excitement!</td>\n",
       "      <td>Jumanji</td>\n",
       "      <td>False</td>\n",
       "      <td>6.9</td>\n",
       "      <td>2413.0</td>\n",
       "    </tr>\n",
       "    <tr>\n",
       "      <th>2</th>\n",
       "      <td>False</td>\n",
       "      <td>{'id': 119050, 'name': 'Grumpy Old Men Collect...</td>\n",
       "      <td>0</td>\n",
       "      <td>[{'id': 10749, 'name': 'Romance'}, {'id': 35, ...</td>\n",
       "      <td>NaN</td>\n",
       "      <td>15602</td>\n",
       "      <td>tt0113228</td>\n",
       "      <td>en</td>\n",
       "      <td>Grumpier Old Men</td>\n",
       "      <td>A family wedding reignites the ancient feud be...</td>\n",
       "      <td>...</td>\n",
       "      <td>1995-12-22</td>\n",
       "      <td>0.0</td>\n",
       "      <td>101.0</td>\n",
       "      <td>[{'iso_639_1': 'en', 'name': 'English'}]</td>\n",
       "      <td>Released</td>\n",
       "      <td>Still Yelling. Still Fighting. Still Ready for...</td>\n",
       "      <td>Grumpier Old Men</td>\n",
       "      <td>False</td>\n",
       "      <td>6.5</td>\n",
       "      <td>92.0</td>\n",
       "    </tr>\n",
       "    <tr>\n",
       "      <th>3</th>\n",
       "      <td>False</td>\n",
       "      <td>NaN</td>\n",
       "      <td>16000000</td>\n",
       "      <td>[{'id': 35, 'name': 'Comedy'}, {'id': 18, 'nam...</td>\n",
       "      <td>NaN</td>\n",
       "      <td>31357</td>\n",
       "      <td>tt0114885</td>\n",
       "      <td>en</td>\n",
       "      <td>Waiting to Exhale</td>\n",
       "      <td>Cheated on, mistreated and stepped on, the wom...</td>\n",
       "      <td>...</td>\n",
       "      <td>1995-12-22</td>\n",
       "      <td>81452156.0</td>\n",
       "      <td>127.0</td>\n",
       "      <td>[{'iso_639_1': 'en', 'name': 'English'}]</td>\n",
       "      <td>Released</td>\n",
       "      <td>Friends are the people who let you be yourself...</td>\n",
       "      <td>Waiting to Exhale</td>\n",
       "      <td>False</td>\n",
       "      <td>6.1</td>\n",
       "      <td>34.0</td>\n",
       "    </tr>\n",
       "    <tr>\n",
       "      <th>4</th>\n",
       "      <td>False</td>\n",
       "      <td>{'id': 96871, 'name': 'Father of the Bride Col...</td>\n",
       "      <td>0</td>\n",
       "      <td>[{'id': 35, 'name': 'Comedy'}]</td>\n",
       "      <td>NaN</td>\n",
       "      <td>11862</td>\n",
       "      <td>tt0113041</td>\n",
       "      <td>en</td>\n",
       "      <td>Father of the Bride Part II</td>\n",
       "      <td>Just when George Banks has recovered from his ...</td>\n",
       "      <td>...</td>\n",
       "      <td>1995-02-10</td>\n",
       "      <td>76578911.0</td>\n",
       "      <td>106.0</td>\n",
       "      <td>[{'iso_639_1': 'en', 'name': 'English'}]</td>\n",
       "      <td>Released</td>\n",
       "      <td>Just When His World Is Back To Normal... He's ...</td>\n",
       "      <td>Father of the Bride Part II</td>\n",
       "      <td>False</td>\n",
       "      <td>5.7</td>\n",
       "      <td>173.0</td>\n",
       "    </tr>\n",
       "  </tbody>\n",
       "</table>\n",
       "<p>5 rows × 24 columns</p>\n",
       "</div>"
      ],
      "text/plain": [
       "   adult                              belongs_to_collection    budget  \\\n",
       "0  False  {'id': 10194, 'name': 'Toy Story Collection', ...  30000000   \n",
       "1  False                                                NaN  65000000   \n",
       "2  False  {'id': 119050, 'name': 'Grumpy Old Men Collect...         0   \n",
       "3  False                                                NaN  16000000   \n",
       "4  False  {'id': 96871, 'name': 'Father of the Bride Col...         0   \n",
       "\n",
       "                                              genres  \\\n",
       "0  [{'id': 16, 'name': 'Animation'}, {'id': 35, '...   \n",
       "1  [{'id': 12, 'name': 'Adventure'}, {'id': 14, '...   \n",
       "2  [{'id': 10749, 'name': 'Romance'}, {'id': 35, ...   \n",
       "3  [{'id': 35, 'name': 'Comedy'}, {'id': 18, 'nam...   \n",
       "4                     [{'id': 35, 'name': 'Comedy'}]   \n",
       "\n",
       "                               homepage     id    imdb_id original_language  \\\n",
       "0  http://toystory.disney.com/toy-story    862  tt0114709                en   \n",
       "1                                   NaN   8844  tt0113497                en   \n",
       "2                                   NaN  15602  tt0113228                en   \n",
       "3                                   NaN  31357  tt0114885                en   \n",
       "4                                   NaN  11862  tt0113041                en   \n",
       "\n",
       "                original_title  \\\n",
       "0                    Toy Story   \n",
       "1                      Jumanji   \n",
       "2             Grumpier Old Men   \n",
       "3            Waiting to Exhale   \n",
       "4  Father of the Bride Part II   \n",
       "\n",
       "                                            overview  ... release_date  \\\n",
       "0  Led by Woody, Andy's toys live happily in his ...  ...   1995-10-30   \n",
       "1  When siblings Judy and Peter discover an encha...  ...   1995-12-15   \n",
       "2  A family wedding reignites the ancient feud be...  ...   1995-12-22   \n",
       "3  Cheated on, mistreated and stepped on, the wom...  ...   1995-12-22   \n",
       "4  Just when George Banks has recovered from his ...  ...   1995-02-10   \n",
       "\n",
       "       revenue runtime                                   spoken_languages  \\\n",
       "0  373554033.0    81.0           [{'iso_639_1': 'en', 'name': 'English'}]   \n",
       "1  262797249.0   104.0  [{'iso_639_1': 'en', 'name': 'English'}, {'iso...   \n",
       "2          0.0   101.0           [{'iso_639_1': 'en', 'name': 'English'}]   \n",
       "3   81452156.0   127.0           [{'iso_639_1': 'en', 'name': 'English'}]   \n",
       "4   76578911.0   106.0           [{'iso_639_1': 'en', 'name': 'English'}]   \n",
       "\n",
       "     status                                            tagline  \\\n",
       "0  Released                                                NaN   \n",
       "1  Released          Roll the dice and unleash the excitement!   \n",
       "2  Released  Still Yelling. Still Fighting. Still Ready for...   \n",
       "3  Released  Friends are the people who let you be yourself...   \n",
       "4  Released  Just When His World Is Back To Normal... He's ...   \n",
       "\n",
       "                         title  video vote_average vote_count  \n",
       "0                    Toy Story  False          7.7     5415.0  \n",
       "1                      Jumanji  False          6.9     2413.0  \n",
       "2             Grumpier Old Men  False          6.5       92.0  \n",
       "3            Waiting to Exhale  False          6.1       34.0  \n",
       "4  Father of the Bride Part II  False          5.7      173.0  \n",
       "\n",
       "[5 rows x 24 columns]"
      ]
     },
     "execution_count": 44,
     "metadata": {},
     "output_type": "execute_result"
    }
   ],
   "source": [
    "movie_df = pd. read_csv('data/movies_metadata.csv')\n",
    "movie_df.head()"
   ]
  },
  {
   "cell_type": "code",
   "execution_count": 45,
   "id": "2ad79ab9",
   "metadata": {},
   "outputs": [
    {
     "data": {
      "text/plain": [
       "0                          toy story\n",
       "1                            jumanji\n",
       "2                   grumpier old men\n",
       "3                  waiting to exhale\n",
       "4        father of the bride part ii\n",
       "                    ...             \n",
       "45461                        رگ خواب\n",
       "45462            siglo ng pagluluwal\n",
       "45463                       betrayal\n",
       "45464            satana likuyushchiy\n",
       "45465                       queerama\n",
       "Name: original_title, Length: 45466, dtype: object"
      ]
     },
     "execution_count": 45,
     "metadata": {},
     "output_type": "execute_result"
    }
   ],
   "source": [
    "movie_df['original_title']=movie_df['original_title'].str.lower() \n",
    "movie_df['original_title']"
   ]
  },
  {
   "cell_type": "code",
   "execution_count": 46,
   "id": "85e8d90b",
   "metadata": {},
   "outputs": [],
   "source": [
    "# Selecting all the genres \n",
    "\n",
    "movie_df['genres'] = movie_df['genres'].fillna('[]').apply(literal_eval).apply(lambda x: [i['name'] for i in x] if isinstance(x, list) else [])"
   ]
  },
  {
   "cell_type": "code",
   "execution_count": 47,
   "id": "d8f7b8ef",
   "metadata": {},
   "outputs": [],
   "source": [
    "# get movie release year\n",
    "movie_df['year'] = pd.to_datetime(movie_df['release_date'], errors='coerce').apply(lambda x: str(x).split('-')[0] if x != np.nan else np.nan)"
   ]
  },
  {
   "cell_type": "code",
   "execution_count": 48,
   "id": "0a395558",
   "metadata": {},
   "outputs": [
    {
     "data": {
      "text/plain": [
       "5.244896612406511"
      ]
     },
     "execution_count": 48,
     "metadata": {},
     "output_type": "execute_result"
    }
   ],
   "source": [
    "# Evl Vote count \n",
    "\n",
    "vote_count = movie_df[movie_df['vote_count'].notnull()]['vote_count'].astype('int')\n",
    "\n",
    "vote_avg = movie_df[movie_df['vote_average'].notnull()]['vote_average'].astype('int')\n",
    "C = vote_avg.mean()\n",
    "C"
   ]
  },
  {
   "cell_type": "code",
   "execution_count": 49,
   "id": "80d9d883",
   "metadata": {},
   "outputs": [
    {
     "data": {
      "text/plain": [
       "434.0"
      ]
     },
     "execution_count": 49,
     "metadata": {},
     "output_type": "execute_result"
    }
   ],
   "source": [
    "m = vote_count.quantile(0.95)\n",
    "m"
   ]
  },
  {
   "cell_type": "code",
   "execution_count": 50,
   "id": "5c6425ad",
   "metadata": {},
   "outputs": [
    {
     "data": {
      "text/plain": [
       "(2274, 6)"
      ]
     },
     "execution_count": 50,
     "metadata": {},
     "output_type": "execute_result"
    }
   ],
   "source": [
    "qualified = movie_df[(movie_df['vote_count'] >= m) & (movie_df['vote_count'].notnull()) & (movie_df['vote_average'].notnull())][['title', 'year', 'vote_count', 'vote_average', 'popularity', 'genres']]\n",
    "qualified['vote_count'] = qualified['vote_count'].astype('int')\n",
    "qualified['vote_average'] = qualified['vote_average'].astype('int')\n",
    "qualified.shape"
   ]
  },
  {
   "cell_type": "code",
   "execution_count": 51,
   "id": "068c6f1d",
   "metadata": {},
   "outputs": [],
   "source": [
    "def weighted_rating(x):\n",
    "    v = x['vote_count']\n",
    "    R = x['vote_average']\n",
    "    return (v/(v+m) * R) + (m/(m+v) * C)"
   ]
  },
  {
   "cell_type": "code",
   "execution_count": null,
   "id": "d7786bd2",
   "metadata": {},
   "outputs": [],
   "source": []
  },
  {
   "cell_type": "code",
   "execution_count": 52,
   "id": "b16be53d",
   "metadata": {},
   "outputs": [],
   "source": [
    "qualified['weighted_rating'] = qualified.apply(weighted_rating, axis=1)"
   ]
  },
  {
   "cell_type": "code",
   "execution_count": 53,
   "id": "ba92e038",
   "metadata": {},
   "outputs": [],
   "source": [
    "qualified = qualified.sort_values('weighted_rating', ascending=False).head(250)"
   ]
  },
  {
   "cell_type": "code",
   "execution_count": 54,
   "id": "dd636cc0",
   "metadata": {
    "scrolled": false
   },
   "outputs": [
    {
     "data": {
      "text/html": [
       "<div>\n",
       "<style scoped>\n",
       "    .dataframe tbody tr th:only-of-type {\n",
       "        vertical-align: middle;\n",
       "    }\n",
       "\n",
       "    .dataframe tbody tr th {\n",
       "        vertical-align: top;\n",
       "    }\n",
       "\n",
       "    .dataframe thead th {\n",
       "        text-align: right;\n",
       "    }\n",
       "</style>\n",
       "<table border=\"1\" class=\"dataframe\">\n",
       "  <thead>\n",
       "    <tr style=\"text-align: right;\">\n",
       "      <th></th>\n",
       "      <th>title</th>\n",
       "      <th>year</th>\n",
       "      <th>vote_count</th>\n",
       "      <th>vote_average</th>\n",
       "      <th>popularity</th>\n",
       "      <th>genres</th>\n",
       "      <th>weighted_rating</th>\n",
       "    </tr>\n",
       "  </thead>\n",
       "  <tbody>\n",
       "    <tr>\n",
       "      <th>15480</th>\n",
       "      <td>Inception</td>\n",
       "      <td>2010</td>\n",
       "      <td>14075</td>\n",
       "      <td>8</td>\n",
       "      <td>29.108149</td>\n",
       "      <td>[Action, Thriller, Science Fiction, Mystery, A...</td>\n",
       "      <td>7.917588</td>\n",
       "    </tr>\n",
       "  </tbody>\n",
       "</table>\n",
       "</div>"
      ],
      "text/plain": [
       "           title  year  vote_count  vote_average popularity  \\\n",
       "15480  Inception  2010       14075             8  29.108149   \n",
       "\n",
       "                                                  genres  weighted_rating  \n",
       "15480  [Action, Thriller, Science Fiction, Mystery, A...         7.917588  "
      ]
     },
     "execution_count": 54,
     "metadata": {},
     "output_type": "execute_result"
    }
   ],
   "source": [
    "qualified.head(1)"
   ]
  },
  {
   "cell_type": "code",
   "execution_count": 55,
   "id": "afaf34ec",
   "metadata": {},
   "outputs": [],
   "source": [
    "s = movie_df.apply(lambda x: pd.Series(x['genres']),axis=1).stack().reset_index(level=1, drop=True)\n",
    "s.name = 'genre'\n",
    "gen_movie_df = movie_df.drop('genres', axis=1).join(s)\n"
   ]
  },
  {
   "cell_type": "code",
   "execution_count": 56,
   "id": "13c9d89e",
   "metadata": {},
   "outputs": [],
   "source": [
    "def build_chart(genre, percentile=0.85):\n",
    "    df = gen_movie_df[gen_movie_df['genre'] == genre]\n",
    "    vote_counts = df[df['vote_count'].notnull()]['vote_count'].astype('int')\n",
    "    vote_averages = df[df['vote_average'].notnull()]['vote_average'].astype('int')\n",
    "    C = vote_averages.mean()\n",
    "    m = vote_counts.quantile(percentile)\n",
    "    \n",
    "    qualified = df[(df['vote_count'] >= m) & (df['vote_count'].notnull()) & (df['vote_average'].notnull())][['title', 'year', 'vote_count', 'vote_average', 'popularity']]\n",
    "    qualified['vote_count'] = qualified['vote_count'].astype('int')\n",
    "    qualified['vote_average'] = qualified['vote_average'].astype('int')\n",
    "    \n",
    "    qualified['wr'] = qualified.apply(lambda x: (x['vote_count']/(x['vote_count']+m) * x['vote_average']) + (m/(m+x['vote_count']) * C), axis=1)\n",
    "    qualified = qualified.sort_values('wr', ascending=False).head(250)\n",
    "    \n",
    "    return qualified"
   ]
  },
  {
   "cell_type": "code",
   "execution_count": 57,
   "id": "f130afb8",
   "metadata": {},
   "outputs": [
    {
     "data": {
      "text/html": [
       "<div>\n",
       "<style scoped>\n",
       "    .dataframe tbody tr th:only-of-type {\n",
       "        vertical-align: middle;\n",
       "    }\n",
       "\n",
       "    .dataframe tbody tr th {\n",
       "        vertical-align: top;\n",
       "    }\n",
       "\n",
       "    .dataframe thead th {\n",
       "        text-align: right;\n",
       "    }\n",
       "</style>\n",
       "<table border=\"1\" class=\"dataframe\">\n",
       "  <thead>\n",
       "    <tr style=\"text-align: right;\">\n",
       "      <th></th>\n",
       "      <th>title</th>\n",
       "      <th>year</th>\n",
       "      <th>vote_count</th>\n",
       "      <th>vote_average</th>\n",
       "      <th>popularity</th>\n",
       "      <th>wr</th>\n",
       "    </tr>\n",
       "  </thead>\n",
       "  <tbody>\n",
       "    <tr>\n",
       "      <th>10309</th>\n",
       "      <td>Dilwale Dulhania Le Jayenge</td>\n",
       "      <td>1995</td>\n",
       "      <td>661</td>\n",
       "      <td>9</td>\n",
       "      <td>34.457024</td>\n",
       "      <td>8.565285</td>\n",
       "    </tr>\n",
       "    <tr>\n",
       "      <th>351</th>\n",
       "      <td>Forrest Gump</td>\n",
       "      <td>1994</td>\n",
       "      <td>8147</td>\n",
       "      <td>8</td>\n",
       "      <td>48.307194</td>\n",
       "      <td>7.971357</td>\n",
       "    </tr>\n",
       "    <tr>\n",
       "      <th>876</th>\n",
       "      <td>Vertigo</td>\n",
       "      <td>1958</td>\n",
       "      <td>1162</td>\n",
       "      <td>8</td>\n",
       "      <td>18.20822</td>\n",
       "      <td>7.811667</td>\n",
       "    </tr>\n",
       "    <tr>\n",
       "      <th>40251</th>\n",
       "      <td>Your Name.</td>\n",
       "      <td>2016</td>\n",
       "      <td>1030</td>\n",
       "      <td>8</td>\n",
       "      <td>34.461252</td>\n",
       "      <td>7.789489</td>\n",
       "    </tr>\n",
       "    <tr>\n",
       "      <th>883</th>\n",
       "      <td>Some Like It Hot</td>\n",
       "      <td>1959</td>\n",
       "      <td>835</td>\n",
       "      <td>8</td>\n",
       "      <td>11.845107</td>\n",
       "      <td>7.745154</td>\n",
       "    </tr>\n",
       "    <tr>\n",
       "      <th>1132</th>\n",
       "      <td>Cinema Paradiso</td>\n",
       "      <td>1988</td>\n",
       "      <td>834</td>\n",
       "      <td>8</td>\n",
       "      <td>14.177005</td>\n",
       "      <td>7.744878</td>\n",
       "    </tr>\n",
       "    <tr>\n",
       "      <th>19901</th>\n",
       "      <td>Paperman</td>\n",
       "      <td>2012</td>\n",
       "      <td>734</td>\n",
       "      <td>8</td>\n",
       "      <td>7.198633</td>\n",
       "      <td>7.713951</td>\n",
       "    </tr>\n",
       "    <tr>\n",
       "      <th>37863</th>\n",
       "      <td>Sing Street</td>\n",
       "      <td>2016</td>\n",
       "      <td>669</td>\n",
       "      <td>8</td>\n",
       "      <td>10.672862</td>\n",
       "      <td>7.689483</td>\n",
       "    </tr>\n",
       "    <tr>\n",
       "      <th>882</th>\n",
       "      <td>The Apartment</td>\n",
       "      <td>1960</td>\n",
       "      <td>498</td>\n",
       "      <td>8</td>\n",
       "      <td>11.994281</td>\n",
       "      <td>7.599317</td>\n",
       "    </tr>\n",
       "    <tr>\n",
       "      <th>38718</th>\n",
       "      <td>The Handmaiden</td>\n",
       "      <td>2016</td>\n",
       "      <td>453</td>\n",
       "      <td>8</td>\n",
       "      <td>16.727405</td>\n",
       "      <td>7.566166</td>\n",
       "    </tr>\n",
       "    <tr>\n",
       "      <th>3189</th>\n",
       "      <td>City Lights</td>\n",
       "      <td>1931</td>\n",
       "      <td>444</td>\n",
       "      <td>8</td>\n",
       "      <td>10.891524</td>\n",
       "      <td>7.558867</td>\n",
       "    </tr>\n",
       "    <tr>\n",
       "      <th>24886</th>\n",
       "      <td>The Way He Looks</td>\n",
       "      <td>2014</td>\n",
       "      <td>262</td>\n",
       "      <td>8</td>\n",
       "      <td>5.711274</td>\n",
       "      <td>7.331363</td>\n",
       "    </tr>\n",
       "    <tr>\n",
       "      <th>45437</th>\n",
       "      <td>In a Heartbeat</td>\n",
       "      <td>2017</td>\n",
       "      <td>146</td>\n",
       "      <td>8</td>\n",
       "      <td>20.82178</td>\n",
       "      <td>7.003959</td>\n",
       "    </tr>\n",
       "    <tr>\n",
       "      <th>1639</th>\n",
       "      <td>Titanic</td>\n",
       "      <td>1997</td>\n",
       "      <td>7770</td>\n",
       "      <td>7</td>\n",
       "      <td>26.88907</td>\n",
       "      <td>6.981546</td>\n",
       "    </tr>\n",
       "    <tr>\n",
       "      <th>19731</th>\n",
       "      <td>Silver Linings Playbook</td>\n",
       "      <td>2012</td>\n",
       "      <td>4840</td>\n",
       "      <td>7</td>\n",
       "      <td>14.488111</td>\n",
       "      <td>6.970581</td>\n",
       "    </tr>\n",
       "  </tbody>\n",
       "</table>\n",
       "</div>"
      ],
      "text/plain": [
       "                             title  year  vote_count  vote_average popularity  \\\n",
       "10309  Dilwale Dulhania Le Jayenge  1995         661             9  34.457024   \n",
       "351                   Forrest Gump  1994        8147             8  48.307194   \n",
       "876                        Vertigo  1958        1162             8   18.20822   \n",
       "40251                   Your Name.  2016        1030             8  34.461252   \n",
       "883               Some Like It Hot  1959         835             8  11.845107   \n",
       "1132               Cinema Paradiso  1988         834             8  14.177005   \n",
       "19901                     Paperman  2012         734             8   7.198633   \n",
       "37863                  Sing Street  2016         669             8  10.672862   \n",
       "882                  The Apartment  1960         498             8  11.994281   \n",
       "38718               The Handmaiden  2016         453             8  16.727405   \n",
       "3189                   City Lights  1931         444             8  10.891524   \n",
       "24886             The Way He Looks  2014         262             8   5.711274   \n",
       "45437               In a Heartbeat  2017         146             8   20.82178   \n",
       "1639                       Titanic  1997        7770             7   26.88907   \n",
       "19731      Silver Linings Playbook  2012        4840             7  14.488111   \n",
       "\n",
       "             wr  \n",
       "10309  8.565285  \n",
       "351    7.971357  \n",
       "876    7.811667  \n",
       "40251  7.789489  \n",
       "883    7.745154  \n",
       "1132   7.744878  \n",
       "19901  7.713951  \n",
       "37863  7.689483  \n",
       "882    7.599317  \n",
       "38718  7.566166  \n",
       "3189   7.558867  \n",
       "24886  7.331363  \n",
       "45437  7.003959  \n",
       "1639   6.981546  \n",
       "19731  6.970581  "
      ]
     },
     "execution_count": 57,
     "metadata": {},
     "output_type": "execute_result"
    }
   ],
   "source": [
    "build_chart('Romance').head(15)"
   ]
  },
  {
   "cell_type": "markdown",
   "id": "4f895e9f",
   "metadata": {},
   "source": [
    "## Content Based Recommender System"
   ]
  },
  {
   "cell_type": "code",
   "execution_count": 58,
   "id": "b387b2ed",
   "metadata": {},
   "outputs": [],
   "source": [
    "links_small = pd.read_csv('data/links_small.csv')\n",
    "links_small = links_small[links_small['tmdbId'].notnull()]['tmdbId'].astype('int')"
   ]
  },
  {
   "cell_type": "code",
   "execution_count": 59,
   "id": "dbf493d5",
   "metadata": {},
   "outputs": [],
   "source": [
    "movie_df = movie_df.drop([19730, 29503, 35587])\n"
   ]
  },
  {
   "cell_type": "code",
   "execution_count": 60,
   "id": "c19d1ad8",
   "metadata": {},
   "outputs": [],
   "source": [
    "#Check EDA Notebook for how and why I got these indices.\n",
    "movie_df['id'] = movie_df['id'].astype('int')"
   ]
  },
  {
   "cell_type": "code",
   "execution_count": 61,
   "id": "bfdf267c",
   "metadata": {},
   "outputs": [],
   "source": [
    "#Check EDA Notebook for how and why I got these indices.\n",
    "movie_df['id'] = movie_df['id'].astype('int')"
   ]
  },
  {
   "cell_type": "code",
   "execution_count": 62,
   "id": "672083a4",
   "metadata": {},
   "outputs": [
    {
     "data": {
      "text/plain": [
       "(9099, 25)"
      ]
     },
     "execution_count": 62,
     "metadata": {},
     "output_type": "execute_result"
    }
   ],
   "source": [
    "movie_df_ex = movie_df[movie_df['id'].isin(links_small)]\n",
    "movie_df_ex.shape"
   ]
  },
  {
   "cell_type": "code",
   "execution_count": 63,
   "id": "e4d43414",
   "metadata": {
    "scrolled": true
   },
   "outputs": [
    {
     "data": {
      "text/plain": [
       "0                                                  NaN\n",
       "1            Roll the dice and unleash the excitement!\n",
       "2    Still Yelling. Still Fighting. Still Ready for...\n",
       "3    Friends are the people who let you be yourself...\n",
       "4    Just When His World Is Back To Normal... He's ...\n",
       "5                             A Los Angeles Crime Saga\n",
       "6    You are cordially invited to the most surprisi...\n",
       "7                               The Original Bad Boys.\n",
       "8                           Terror goes into overtime.\n",
       "9                 No limits. No fears. No substitutes.\n",
       "Name: tagline, dtype: object"
      ]
     },
     "execution_count": 63,
     "metadata": {},
     "output_type": "execute_result"
    }
   ],
   "source": [
    "movie_df_ex['tagline'].head(10)"
   ]
  },
  {
   "cell_type": "markdown",
   "id": "5c0379ab",
   "metadata": {},
   "source": [
    "## Tags based "
   ]
  },
  {
   "cell_type": "code",
   "execution_count": 64,
   "id": "0e096076",
   "metadata": {},
   "outputs": [],
   "source": [
    "movie_df_ex['tagline'] = movie_df_ex['tagline'].fillna('')\n",
    "movie_df_ex['description'] = movie_df_ex['overview'] + movie_df_ex['tagline']\n",
    "movie_df_ex['description'] = movie_df_ex['description'].fillna('')"
   ]
  },
  {
   "cell_type": "code",
   "execution_count": 165,
   "id": "170f00ba",
   "metadata": {},
   "outputs": [],
   "source": [
    "movie_df_ex = movie_df_ex.sort_values('title', ascending=False).drop_duplicates('title').sort_index()"
   ]
  },
  {
   "cell_type": "code",
   "execution_count": 166,
   "id": "7348f4f6",
   "metadata": {},
   "outputs": [],
   "source": [
    "w_tokenizer = nltk.tokenize.WhitespaceTokenizer()\n",
    "lemmatizer = nltk.stem.WordNetLemmatizer()\n",
    "words = set(nltk.corpus.words.words())\n",
    "\n",
    "def lemmatize_text(text):\n",
    "    return [lemmatizer.lemmatize(w) for w in w_tokenizer.tokenize(text)]\n",
    "\n",
    "# clean the text dataframe\n",
    "def text_cleaning(text):\n",
    "    text = text.lower()\n",
    "        \n",
    "    text = re.sub(r'http.?:\\/\\/\\S+','',text) #remove links\n",
    "    text = emoji.demojize(text, delimiters=(\"\", \"\")) \n",
    "  # text = text.encode(\"ascii\", errors=\"ignore\").decode()\n",
    " \n",
    "    text=re.sub(r'@[A-Za-z0-9]+','',text) #removes mentions\n",
    "    text=re.sub(r'#','',text)#remove hashtag\n",
    "    text = re.sub(r'RT[\\s]','',text) #remove RT\n",
    "    text = re.sub(r'http?:\\/\\/\\S+','',text) #remove links\n",
    "    text = re.sub(r\"br\", \" \", text)\n",
    "    text = re.sub(r\"_\", \" \", text)\n",
    "    text = re.sub(r\"[,.\\\"\\'!@#$%^&*(){}?/;`~:<>+=-]\", \" \", text)\n",
    "    text=re.sub(r'\\'','',text)\n",
    "    text=re.sub(r'\\\"','',text)\n",
    "    text=re.sub(r'\\“','',text)\n",
    "    text=re.sub(r'\\”','',text)\n",
    "    tokens = word_tokenize(text)\n",
    "    table = str.maketrans('', '', string.punctuation)\n",
    "    stripped = [w.translate(table) for w in tokens]\n",
    "    words1 = [word for word in stripped if word.isalpha()]\n",
    "    stop_words = set(stopwords.words(\"english\"))\n",
    "    stop_words.discard(\"not\")\n",
    "\n",
    "    words1 = [w for w in words1 if not w in stop_words]\n",
    "    words1 = ' '.join(words1)\n",
    "  # print(words1)\n",
    "  # words1 = \" \".join(w for w in nltk.wordpunct_tokenize(words1) if w.lower() in words or not w.isalpha())\n",
    "  # words1 = [w for w in words1 if  w in words.words()]\n",
    "  # final = ' '.join(words1)\n",
    "    final=[lemmatizer.lemmatize(w) for w in w_tokenizer.tokenize(words1)]\n",
    "    final = ' '.join(final)\n",
    "    return final"
   ]
  },
  {
   "cell_type": "code",
   "execution_count": 167,
   "id": "781c0d7f",
   "metadata": {},
   "outputs": [],
   "source": [
    "movie_df_ex['description'] = movie_df_ex['description'].apply(text_cleaning)"
   ]
  },
  {
   "cell_type": "code",
   "execution_count": 168,
   "id": "3a2c5472",
   "metadata": {},
   "outputs": [],
   "source": [
    "# movie_df_ex.to_csv('tags_recom.csv',index=False)"
   ]
  },
  {
   "cell_type": "code",
   "execution_count": 169,
   "id": "93efb6a0",
   "metadata": {},
   "outputs": [],
   "source": [
    "tf = TfidfVectorizer(analyzer='word',ngram_range=(1, 2),min_df=0, stop_words='english')\n",
    "c = CountVectorizer()\n",
    "tfidf_mtx = c.fit_transform(movie_df_ex['description'])"
   ]
  },
  {
   "cell_type": "code",
   "execution_count": 170,
   "id": "20e3cd28",
   "metadata": {},
   "outputs": [
    {
     "data": {
      "text/plain": [
       "(8809, 26779)"
      ]
     },
     "execution_count": 170,
     "metadata": {},
     "output_type": "execute_result"
    }
   ],
   "source": [
    "tfidf_mtx.shape"
   ]
  },
  {
   "cell_type": "code",
   "execution_count": 171,
   "id": "2f629834",
   "metadata": {},
   "outputs": [],
   "source": [
    "cosine_sim = linear_kernel(tfidf_mtx, tfidf_mtx)"
   ]
  },
  {
   "cell_type": "code",
   "execution_count": 172,
   "id": "53565fea",
   "metadata": {},
   "outputs": [
    {
     "data": {
      "text/plain": [
       "array([51.,  1.,  0., ...,  1.,  0.,  1.])"
      ]
     },
     "execution_count": 172,
     "metadata": {},
     "output_type": "execute_result"
    }
   ],
   "source": [
    "cosine_sim[0]"
   ]
  },
  {
   "cell_type": "code",
   "execution_count": 173,
   "id": "ad4ec18d",
   "metadata": {},
   "outputs": [
    {
     "data": {
      "text/html": [
       "<div>\n",
       "<style scoped>\n",
       "    .dataframe tbody tr th:only-of-type {\n",
       "        vertical-align: middle;\n",
       "    }\n",
       "\n",
       "    .dataframe tbody tr th {\n",
       "        vertical-align: top;\n",
       "    }\n",
       "\n",
       "    .dataframe thead th {\n",
       "        text-align: right;\n",
       "    }\n",
       "</style>\n",
       "<table border=\"1\" class=\"dataframe\">\n",
       "  <thead>\n",
       "    <tr style=\"text-align: right;\">\n",
       "      <th></th>\n",
       "      <th>level_0</th>\n",
       "      <th>index</th>\n",
       "      <th>adult</th>\n",
       "      <th>belongs_to_collection</th>\n",
       "      <th>budget</th>\n",
       "      <th>genres</th>\n",
       "      <th>homepage</th>\n",
       "      <th>id</th>\n",
       "      <th>imdb_id</th>\n",
       "      <th>original_language</th>\n",
       "      <th>...</th>\n",
       "      <th>runtime</th>\n",
       "      <th>spoken_languages</th>\n",
       "      <th>status</th>\n",
       "      <th>tagline</th>\n",
       "      <th>title</th>\n",
       "      <th>video</th>\n",
       "      <th>vote_average</th>\n",
       "      <th>vote_count</th>\n",
       "      <th>year</th>\n",
       "      <th>description</th>\n",
       "    </tr>\n",
       "  </thead>\n",
       "  <tbody>\n",
       "    <tr>\n",
       "      <th>0</th>\n",
       "      <td>0</td>\n",
       "      <td>0</td>\n",
       "      <td>False</td>\n",
       "      <td>{'id': 10194, 'name': 'Toy Story Collection', ...</td>\n",
       "      <td>30000000</td>\n",
       "      <td>[Animation, Comedy, Family]</td>\n",
       "      <td>http://toystory.disney.com/toy-story</td>\n",
       "      <td>862</td>\n",
       "      <td>tt0114709</td>\n",
       "      <td>en</td>\n",
       "      <td>...</td>\n",
       "      <td>81.0</td>\n",
       "      <td>[{'iso_639_1': 'en', 'name': 'English'}]</td>\n",
       "      <td>Released</td>\n",
       "      <td></td>\n",
       "      <td>Toy Story</td>\n",
       "      <td>False</td>\n",
       "      <td>7.7</td>\n",
       "      <td>5415.0</td>\n",
       "      <td>1995</td>\n",
       "      <td>led woody andy toy live happily room andy birt...</td>\n",
       "    </tr>\n",
       "    <tr>\n",
       "      <th>1</th>\n",
       "      <td>1</td>\n",
       "      <td>1</td>\n",
       "      <td>False</td>\n",
       "      <td>NaN</td>\n",
       "      <td>65000000</td>\n",
       "      <td>[Adventure, Fantasy, Family]</td>\n",
       "      <td>NaN</td>\n",
       "      <td>8844</td>\n",
       "      <td>tt0113497</td>\n",
       "      <td>en</td>\n",
       "      <td>...</td>\n",
       "      <td>104.0</td>\n",
       "      <td>[{'iso_639_1': 'en', 'name': 'English'}, {'iso...</td>\n",
       "      <td>Released</td>\n",
       "      <td>Roll the dice and unleash the excitement!</td>\n",
       "      <td>Jumanji</td>\n",
       "      <td>False</td>\n",
       "      <td>6.9</td>\n",
       "      <td>2413.0</td>\n",
       "      <td>1995</td>\n",
       "      <td>sibling judy peter discover enchanted board ga...</td>\n",
       "    </tr>\n",
       "    <tr>\n",
       "      <th>2</th>\n",
       "      <td>2</td>\n",
       "      <td>2</td>\n",
       "      <td>False</td>\n",
       "      <td>{'id': 119050, 'name': 'Grumpy Old Men Collect...</td>\n",
       "      <td>0</td>\n",
       "      <td>[Romance, Comedy]</td>\n",
       "      <td>NaN</td>\n",
       "      <td>15602</td>\n",
       "      <td>tt0113228</td>\n",
       "      <td>en</td>\n",
       "      <td>...</td>\n",
       "      <td>101.0</td>\n",
       "      <td>[{'iso_639_1': 'en', 'name': 'English'}]</td>\n",
       "      <td>Released</td>\n",
       "      <td>Still Yelling. Still Fighting. Still Ready for...</td>\n",
       "      <td>Grumpier Old Men</td>\n",
       "      <td>False</td>\n",
       "      <td>6.5</td>\n",
       "      <td>92.0</td>\n",
       "      <td>1995</td>\n",
       "      <td>family wedding reignites ancient feud next doo...</td>\n",
       "    </tr>\n",
       "    <tr>\n",
       "      <th>3</th>\n",
       "      <td>3</td>\n",
       "      <td>3</td>\n",
       "      <td>False</td>\n",
       "      <td>NaN</td>\n",
       "      <td>16000000</td>\n",
       "      <td>[Comedy, Drama, Romance]</td>\n",
       "      <td>NaN</td>\n",
       "      <td>31357</td>\n",
       "      <td>tt0114885</td>\n",
       "      <td>en</td>\n",
       "      <td>...</td>\n",
       "      <td>127.0</td>\n",
       "      <td>[{'iso_639_1': 'en', 'name': 'English'}]</td>\n",
       "      <td>Released</td>\n",
       "      <td>Friends are the people who let you be yourself...</td>\n",
       "      <td>Waiting to Exhale</td>\n",
       "      <td>False</td>\n",
       "      <td>6.1</td>\n",
       "      <td>34.0</td>\n",
       "      <td>1995</td>\n",
       "      <td>cheated mistreated stepped woman holding eath ...</td>\n",
       "    </tr>\n",
       "    <tr>\n",
       "      <th>4</th>\n",
       "      <td>4</td>\n",
       "      <td>4</td>\n",
       "      <td>False</td>\n",
       "      <td>{'id': 96871, 'name': 'Father of the Bride Col...</td>\n",
       "      <td>0</td>\n",
       "      <td>[Comedy]</td>\n",
       "      <td>NaN</td>\n",
       "      <td>11862</td>\n",
       "      <td>tt0113041</td>\n",
       "      <td>en</td>\n",
       "      <td>...</td>\n",
       "      <td>106.0</td>\n",
       "      <td>[{'iso_639_1': 'en', 'name': 'English'}]</td>\n",
       "      <td>Released</td>\n",
       "      <td>Just When His World Is Back To Normal... He's ...</td>\n",
       "      <td>Father of the Bride Part II</td>\n",
       "      <td>False</td>\n",
       "      <td>5.7</td>\n",
       "      <td>173.0</td>\n",
       "      <td>1995</td>\n",
       "      <td>george bank recovered daughter wedding receive...</td>\n",
       "    </tr>\n",
       "    <tr>\n",
       "      <th>...</th>\n",
       "      <td>...</td>\n",
       "      <td>...</td>\n",
       "      <td>...</td>\n",
       "      <td>...</td>\n",
       "      <td>...</td>\n",
       "      <td>...</td>\n",
       "      <td>...</td>\n",
       "      <td>...</td>\n",
       "      <td>...</td>\n",
       "      <td>...</td>\n",
       "      <td>...</td>\n",
       "      <td>...</td>\n",
       "      <td>...</td>\n",
       "      <td>...</td>\n",
       "      <td>...</td>\n",
       "      <td>...</td>\n",
       "      <td>...</td>\n",
       "      <td>...</td>\n",
       "      <td>...</td>\n",
       "      <td>...</td>\n",
       "      <td>...</td>\n",
       "    </tr>\n",
       "    <tr>\n",
       "      <th>9093</th>\n",
       "      <td>9093</td>\n",
       "      <td>9093</td>\n",
       "      <td>False</td>\n",
       "      <td>NaN</td>\n",
       "      <td>15050000</td>\n",
       "      <td>[Adventure, Drama, History, Romance]</td>\n",
       "      <td>NaN</td>\n",
       "      <td>402672</td>\n",
       "      <td>tt3859980</td>\n",
       "      <td>hi</td>\n",
       "      <td>...</td>\n",
       "      <td>155.0</td>\n",
       "      <td>[{'iso_639_1': 'hi', 'name': 'हिन्दी'}]</td>\n",
       "      <td>Released</td>\n",
       "      <td></td>\n",
       "      <td>Mohenjo Daro</td>\n",
       "      <td>False</td>\n",
       "      <td>6.7</td>\n",
       "      <td>26.0</td>\n",
       "      <td>2016</td>\n",
       "      <td>village lad sarman drawn big bad mohenjo daro ...</td>\n",
       "    </tr>\n",
       "    <tr>\n",
       "      <th>9094</th>\n",
       "      <td>9094</td>\n",
       "      <td>9094</td>\n",
       "      <td>False</td>\n",
       "      <td>NaN</td>\n",
       "      <td>15000000</td>\n",
       "      <td>[Action, Adventure, Drama, Horror, Science Fic...</td>\n",
       "      <td>NaN</td>\n",
       "      <td>315011</td>\n",
       "      <td>tt4262980</td>\n",
       "      <td>ja</td>\n",
       "      <td>...</td>\n",
       "      <td>120.0</td>\n",
       "      <td>[{'iso_639_1': 'it', 'name': 'Italiano'}, {'is...</td>\n",
       "      <td>Released</td>\n",
       "      <td>A god incarnate. A city doomed.</td>\n",
       "      <td>Shin Godzilla</td>\n",
       "      <td>False</td>\n",
       "      <td>6.6</td>\n",
       "      <td>152.0</td>\n",
       "      <td>2016</td>\n",
       "      <td>mind behind evangelion come hit larger life ma...</td>\n",
       "    </tr>\n",
       "    <tr>\n",
       "      <th>9095</th>\n",
       "      <td>9095</td>\n",
       "      <td>9095</td>\n",
       "      <td>False</td>\n",
       "      <td>NaN</td>\n",
       "      <td>0</td>\n",
       "      <td>[Documentary, Music]</td>\n",
       "      <td>http://www.thebeatlesliveproject.com/</td>\n",
       "      <td>391698</td>\n",
       "      <td>tt2531318</td>\n",
       "      <td>en</td>\n",
       "      <td>...</td>\n",
       "      <td>99.0</td>\n",
       "      <td>[{'iso_639_1': 'en', 'name': 'English'}]</td>\n",
       "      <td>Released</td>\n",
       "      <td>The band you know. The story you don't.</td>\n",
       "      <td>The Beatles: Eight Days a Week - The Touring Y...</td>\n",
       "      <td>False</td>\n",
       "      <td>7.6</td>\n",
       "      <td>92.0</td>\n",
       "      <td>2016</td>\n",
       "      <td>band stormed europe conquered america ground e...</td>\n",
       "    </tr>\n",
       "    <tr>\n",
       "      <th>9096</th>\n",
       "      <td>9096</td>\n",
       "      <td>9096</td>\n",
       "      <td>False</td>\n",
       "      <td>{'id': 34055, 'name': 'Pokémon Collection', 'p...</td>\n",
       "      <td>16000000</td>\n",
       "      <td>[Adventure, Fantasy, Animation, Action, Family]</td>\n",
       "      <td>http://movies.warnerbros.com/pk3/</td>\n",
       "      <td>10991</td>\n",
       "      <td>tt0235679</td>\n",
       "      <td>ja</td>\n",
       "      <td>...</td>\n",
       "      <td>93.0</td>\n",
       "      <td>[{'iso_639_1': 'en', 'name': 'English'}]</td>\n",
       "      <td>Released</td>\n",
       "      <td>Pokémon: Spell of the Unknown</td>\n",
       "      <td>Pokémon: Spell of the Unknown</td>\n",
       "      <td>False</td>\n",
       "      <td>6.0</td>\n",
       "      <td>144.0</td>\n",
       "      <td>2000</td>\n",
       "      <td>molly hale sadness father disappearance get un...</td>\n",
       "    </tr>\n",
       "    <tr>\n",
       "      <th>9097</th>\n",
       "      <td>9097</td>\n",
       "      <td>9097</td>\n",
       "      <td>False</td>\n",
       "      <td>{'id': 34055, 'name': 'Pokémon Collection', 'p...</td>\n",
       "      <td>0</td>\n",
       "      <td>[Adventure, Fantasy, Animation, Science Fictio...</td>\n",
       "      <td>http://www.pokemon.com/us/movies/movie-pokemon...</td>\n",
       "      <td>12600</td>\n",
       "      <td>tt0287635</td>\n",
       "      <td>ja</td>\n",
       "      <td>...</td>\n",
       "      <td>75.0</td>\n",
       "      <td>[{'iso_639_1': 'ja', 'name': '日本語'}]</td>\n",
       "      <td>Released</td>\n",
       "      <td></td>\n",
       "      <td>Pokémon 4Ever: Celebi - Voice of the Forest</td>\n",
       "      <td>False</td>\n",
       "      <td>5.7</td>\n",
       "      <td>82.0</td>\n",
       "      <td>2001</td>\n",
       "      <td>favorite pokémon character back joined first t...</td>\n",
       "    </tr>\n",
       "  </tbody>\n",
       "</table>\n",
       "<p>8809 rows × 28 columns</p>\n",
       "</div>"
      ],
      "text/plain": [
       "      level_0  index  adult  \\\n",
       "0           0      0  False   \n",
       "1           1      1  False   \n",
       "2           2      2  False   \n",
       "3           3      3  False   \n",
       "4           4      4  False   \n",
       "...       ...    ...    ...   \n",
       "9093     9093   9093  False   \n",
       "9094     9094   9094  False   \n",
       "9095     9095   9095  False   \n",
       "9096     9096   9096  False   \n",
       "9097     9097   9097  False   \n",
       "\n",
       "                                  belongs_to_collection    budget  \\\n",
       "0     {'id': 10194, 'name': 'Toy Story Collection', ...  30000000   \n",
       "1                                                   NaN  65000000   \n",
       "2     {'id': 119050, 'name': 'Grumpy Old Men Collect...         0   \n",
       "3                                                   NaN  16000000   \n",
       "4     {'id': 96871, 'name': 'Father of the Bride Col...         0   \n",
       "...                                                 ...       ...   \n",
       "9093                                                NaN  15050000   \n",
       "9094                                                NaN  15000000   \n",
       "9095                                                NaN         0   \n",
       "9096  {'id': 34055, 'name': 'Pokémon Collection', 'p...  16000000   \n",
       "9097  {'id': 34055, 'name': 'Pokémon Collection', 'p...         0   \n",
       "\n",
       "                                                 genres  \\\n",
       "0                           [Animation, Comedy, Family]   \n",
       "1                          [Adventure, Fantasy, Family]   \n",
       "2                                     [Romance, Comedy]   \n",
       "3                              [Comedy, Drama, Romance]   \n",
       "4                                              [Comedy]   \n",
       "...                                                 ...   \n",
       "9093               [Adventure, Drama, History, Romance]   \n",
       "9094  [Action, Adventure, Drama, Horror, Science Fic...   \n",
       "9095                               [Documentary, Music]   \n",
       "9096    [Adventure, Fantasy, Animation, Action, Family]   \n",
       "9097  [Adventure, Fantasy, Animation, Science Fictio...   \n",
       "\n",
       "                                               homepage      id    imdb_id  \\\n",
       "0                  http://toystory.disney.com/toy-story     862  tt0114709   \n",
       "1                                                   NaN    8844  tt0113497   \n",
       "2                                                   NaN   15602  tt0113228   \n",
       "3                                                   NaN   31357  tt0114885   \n",
       "4                                                   NaN   11862  tt0113041   \n",
       "...                                                 ...     ...        ...   \n",
       "9093                                                NaN  402672  tt3859980   \n",
       "9094                                                NaN  315011  tt4262980   \n",
       "9095              http://www.thebeatlesliveproject.com/  391698  tt2531318   \n",
       "9096                  http://movies.warnerbros.com/pk3/   10991  tt0235679   \n",
       "9097  http://www.pokemon.com/us/movies/movie-pokemon...   12600  tt0287635   \n",
       "\n",
       "     original_language  ... runtime  \\\n",
       "0                   en  ...    81.0   \n",
       "1                   en  ...   104.0   \n",
       "2                   en  ...   101.0   \n",
       "3                   en  ...   127.0   \n",
       "4                   en  ...   106.0   \n",
       "...                ...  ...     ...   \n",
       "9093                hi  ...   155.0   \n",
       "9094                ja  ...   120.0   \n",
       "9095                en  ...    99.0   \n",
       "9096                ja  ...    93.0   \n",
       "9097                ja  ...    75.0   \n",
       "\n",
       "                                       spoken_languages    status  \\\n",
       "0              [{'iso_639_1': 'en', 'name': 'English'}]  Released   \n",
       "1     [{'iso_639_1': 'en', 'name': 'English'}, {'iso...  Released   \n",
       "2              [{'iso_639_1': 'en', 'name': 'English'}]  Released   \n",
       "3              [{'iso_639_1': 'en', 'name': 'English'}]  Released   \n",
       "4              [{'iso_639_1': 'en', 'name': 'English'}]  Released   \n",
       "...                                                 ...       ...   \n",
       "9093            [{'iso_639_1': 'hi', 'name': 'हिन्दी'}]  Released   \n",
       "9094  [{'iso_639_1': 'it', 'name': 'Italiano'}, {'is...  Released   \n",
       "9095           [{'iso_639_1': 'en', 'name': 'English'}]  Released   \n",
       "9096           [{'iso_639_1': 'en', 'name': 'English'}]  Released   \n",
       "9097               [{'iso_639_1': 'ja', 'name': '日本語'}]  Released   \n",
       "\n",
       "                                                tagline  \\\n",
       "0                                                         \n",
       "1             Roll the dice and unleash the excitement!   \n",
       "2     Still Yelling. Still Fighting. Still Ready for...   \n",
       "3     Friends are the people who let you be yourself...   \n",
       "4     Just When His World Is Back To Normal... He's ...   \n",
       "...                                                 ...   \n",
       "9093                                                      \n",
       "9094                    A god incarnate. A city doomed.   \n",
       "9095            The band you know. The story you don't.   \n",
       "9096                      Pokémon: Spell of the Unknown   \n",
       "9097                                                      \n",
       "\n",
       "                                                  title  video vote_average  \\\n",
       "0                                             Toy Story  False          7.7   \n",
       "1                                               Jumanji  False          6.9   \n",
       "2                                      Grumpier Old Men  False          6.5   \n",
       "3                                     Waiting to Exhale  False          6.1   \n",
       "4                           Father of the Bride Part II  False          5.7   \n",
       "...                                                 ...    ...          ...   \n",
       "9093                                       Mohenjo Daro  False          6.7   \n",
       "9094                                      Shin Godzilla  False          6.6   \n",
       "9095  The Beatles: Eight Days a Week - The Touring Y...  False          7.6   \n",
       "9096                      Pokémon: Spell of the Unknown  False          6.0   \n",
       "9097        Pokémon 4Ever: Celebi - Voice of the Forest  False          5.7   \n",
       "\n",
       "      vote_count  year                                        description  \n",
       "0         5415.0  1995  led woody andy toy live happily room andy birt...  \n",
       "1         2413.0  1995  sibling judy peter discover enchanted board ga...  \n",
       "2           92.0  1995  family wedding reignites ancient feud next doo...  \n",
       "3           34.0  1995  cheated mistreated stepped woman holding eath ...  \n",
       "4          173.0  1995  george bank recovered daughter wedding receive...  \n",
       "...          ...   ...                                                ...  \n",
       "9093        26.0  2016  village lad sarman drawn big bad mohenjo daro ...  \n",
       "9094       152.0  2016  mind behind evangelion come hit larger life ma...  \n",
       "9095        92.0  2016  band stormed europe conquered america ground e...  \n",
       "9096       144.0  2000  molly hale sadness father disappearance get un...  \n",
       "9097        82.0  2001  favorite pokémon character back joined first t...  \n",
       "\n",
       "[8809 rows x 28 columns]"
      ]
     },
     "execution_count": 173,
     "metadata": {},
     "output_type": "execute_result"
    }
   ],
   "source": [
    "movie_df_ex"
   ]
  },
  {
   "cell_type": "code",
   "execution_count": 174,
   "id": "126e84ca",
   "metadata": {},
   "outputs": [],
   "source": [
    "movie_df_ex.to_csv('tags_recom.csv',index=False)"
   ]
  },
  {
   "cell_type": "code",
   "execution_count": 161,
   "id": "756d3ca2",
   "metadata": {},
   "outputs": [],
   "source": [
    "movie_df_ex=movie_df_ex.drop(['level_0', 'index'], axis=1)"
   ]
  },
  {
   "cell_type": "code",
   "execution_count": 162,
   "id": "1bd21b20",
   "metadata": {},
   "outputs": [],
   "source": [
    "movie_df_ex = movie_df_ex.reset_index()\n",
    "titles = movie_df_ex['title']\n",
    "indices = pd.Series(movie_df_ex.index, index=movie_df_ex['title'])"
   ]
  },
  {
   "cell_type": "code",
   "execution_count": 163,
   "id": "82a41cf1",
   "metadata": {},
   "outputs": [],
   "source": [
    "tf = TfidfVectorizer(analyzer='word',ngram_range=(1, 2),min_df=0, stop_words='english')\n",
    "c  = CountVectorizer()\n",
    "tfidf_mtx = c.fit_transform(movie_df_ex['description'])\n",
    "cosine_sim = linear_kernel(tfidf_mtx, tfidf_mtx)\n",
    "movie_df_ex = movie_df_ex.reset_index()\n",
    "titles = movie_df_ex['title']\n",
    "indices = pd.Series(movie_df_ex.index, index=movie_df_ex['title'])\n",
    "def recommendations_tags(title):\n",
    "    idx = indices[title]\n",
    "    sim_scores = list(enumerate(cosine_sim[idx]))\n",
    "    sim_scores = sorted(sim_scores, key=lambda x: x[1], reverse=True)\n",
    "    sim_scores = sim_scores[1:31]\n",
    "    movie_indices = [i[0] for i in sim_scores]\n",
    "    return titles.iloc[movie_indices]"
   ]
  },
  {
   "cell_type": "code",
   "execution_count": 158,
   "id": "43a0d03a",
   "metadata": {},
   "outputs": [
    {
     "data": {
      "text/plain": [
       "6250                        Left Behind III: World at War\n",
       "5061                                           Cool World\n",
       "4541                                             The Core\n",
       "8047                 Dragon Ball Z: The World's Strongest\n",
       "1250                                         Men in Black\n",
       "7122                                                Ponyo\n",
       "7220    Fullmetal Alchemist the Movie: Conqueror of Sh...\n",
       "61                                               Bio-Dome\n",
       "5592                           Team America: World Police\n",
       "6985                                           Death Note\n",
       "Name: title, dtype: object"
      ]
     },
     "execution_count": 158,
     "metadata": {},
     "output_type": "execute_result"
    }
   ],
   "source": [
    "recommendations_tags('2012').head(10)"
   ]
  },
  {
   "cell_type": "code",
   "execution_count": 76,
   "id": "ad3d92d9",
   "metadata": {},
   "outputs": [
    {
     "data": {
      "text/plain": [
       "6882                             Semi-Pro\n",
       "2118                  Son of Frankenstein\n",
       "807                           The Chamber\n",
       "5162    The Rolling Stones: Gimme Shelter\n",
       "1825                                 2010\n",
       "2097                           Black Mask\n",
       "4023                        Stolen Summer\n",
       "4755                         Taking Sides\n",
       "5728                          Spider Baby\n",
       "4794    Lagaan: Once Upon a Time in India\n",
       "Name: title, dtype: object"
      ]
     },
     "execution_count": 76,
     "metadata": {},
     "output_type": "execute_result"
    }
   ],
   "source": [
    "recommendations_tags('Inception').head(10)"
   ]
  },
  {
   "cell_type": "markdown",
   "id": "b6129ad9",
   "metadata": {},
   "source": [
    "## Metadata Based Recommender"
   ]
  },
  {
   "cell_type": "code",
   "execution_count": 186,
   "id": "10e9c403",
   "metadata": {},
   "outputs": [],
   "source": [
    "credits = pd.read_csv('data/credits.csv')\n",
    "keywords = pd.read_csv('data/keywords.csv')"
   ]
  },
  {
   "cell_type": "code",
   "execution_count": 187,
   "id": "3de569ba",
   "metadata": {},
   "outputs": [],
   "source": [
    "keywords['id'] = keywords['id'].astype('int')\n",
    "credits['id'] = credits['id'].astype('int')\n",
    "movie_df['id'] = movie_df['id'].astype('int')"
   ]
  },
  {
   "cell_type": "code",
   "execution_count": 188,
   "id": "b34be69c",
   "metadata": {},
   "outputs": [
    {
     "data": {
      "text/plain": [
       "(96052, 37)"
      ]
     },
     "execution_count": 188,
     "metadata": {},
     "output_type": "execute_result"
    }
   ],
   "source": [
    "movie_df.shape"
   ]
  },
  {
   "cell_type": "code",
   "execution_count": 189,
   "id": "716d3f1f",
   "metadata": {},
   "outputs": [],
   "source": [
    "movie_df = movie_df.merge(credits, on='id')\n",
    "movie_df = movie_df.merge(keywords, on='id')"
   ]
  },
  {
   "cell_type": "code",
   "execution_count": 190,
   "id": "c1e4ec66",
   "metadata": {},
   "outputs": [
    {
     "data": {
      "text/plain": [
       "(44439, 40)"
      ]
     },
     "execution_count": 190,
     "metadata": {},
     "output_type": "execute_result"
    }
   ],
   "source": [
    "smovie_df = movie_df[movie_df['id'].isin(links_small)]\n",
    "smovie_df.shape"
   ]
  },
  {
   "cell_type": "code",
   "execution_count": null,
   "id": "a6ce179e",
   "metadata": {},
   "outputs": [],
   "source": []
  },
  {
   "cell_type": "code",
   "execution_count": 191,
   "id": "d8b19e1c",
   "metadata": {},
   "outputs": [
    {
     "data": {
      "text/html": [
       "<div>\n",
       "<style scoped>\n",
       "    .dataframe tbody tr th:only-of-type {\n",
       "        vertical-align: middle;\n",
       "    }\n",
       "\n",
       "    .dataframe tbody tr th {\n",
       "        vertical-align: top;\n",
       "    }\n",
       "\n",
       "    .dataframe thead th {\n",
       "        text-align: right;\n",
       "    }\n",
       "</style>\n",
       "<table border=\"1\" class=\"dataframe\">\n",
       "  <thead>\n",
       "    <tr style=\"text-align: right;\">\n",
       "      <th></th>\n",
       "      <th>adult</th>\n",
       "      <th>belongs_to_collection</th>\n",
       "      <th>budget</th>\n",
       "      <th>genres</th>\n",
       "      <th>homepage</th>\n",
       "      <th>id</th>\n",
       "      <th>imdb_id</th>\n",
       "      <th>original_language</th>\n",
       "      <th>original_title</th>\n",
       "      <th>overview</th>\n",
       "      <th>...</th>\n",
       "      <th>keywords_y</th>\n",
       "      <th>cast_x</th>\n",
       "      <th>crew_x</th>\n",
       "      <th>keywords_x</th>\n",
       "      <th>cast_y</th>\n",
       "      <th>crew_y</th>\n",
       "      <th>keywords_y</th>\n",
       "      <th>cast</th>\n",
       "      <th>crew</th>\n",
       "      <th>keywords</th>\n",
       "    </tr>\n",
       "  </thead>\n",
       "  <tbody>\n",
       "    <tr>\n",
       "      <th>0</th>\n",
       "      <td>False</td>\n",
       "      <td>{'id': 10194, 'name': 'Toy Story Collection', ...</td>\n",
       "      <td>30000000</td>\n",
       "      <td>[Animation, Comedy, Family]</td>\n",
       "      <td>http://toystory.disney.com/toy-story</td>\n",
       "      <td>862</td>\n",
       "      <td>tt0114709</td>\n",
       "      <td>en</td>\n",
       "      <td>toy story</td>\n",
       "      <td>Led by Woody, Andy's toys live happily in his ...</td>\n",
       "      <td>...</td>\n",
       "      <td>[{'id': 931, 'name': 'jealousy'}, {'id': 4290,...</td>\n",
       "      <td>[{'cast_id': 14, 'character': 'Woody (voice)',...</td>\n",
       "      <td>[{'credit_id': '52fe4284c3a36847f8024f49', 'de...</td>\n",
       "      <td>[{'id': 931, 'name': 'jealousy'}, {'id': 4290,...</td>\n",
       "      <td>[{'cast_id': 14, 'character': 'Woody (voice)',...</td>\n",
       "      <td>[{'credit_id': '52fe4284c3a36847f8024f49', 'de...</td>\n",
       "      <td>[{'id': 931, 'name': 'jealousy'}, {'id': 4290,...</td>\n",
       "      <td>[{'cast_id': 14, 'character': 'Woody (voice)',...</td>\n",
       "      <td>[{'credit_id': '52fe4284c3a36847f8024f49', 'de...</td>\n",
       "      <td>[{'id': 931, 'name': 'jealousy'}, {'id': 4290,...</td>\n",
       "    </tr>\n",
       "    <tr>\n",
       "      <th>1</th>\n",
       "      <td>False</td>\n",
       "      <td>NaN</td>\n",
       "      <td>65000000</td>\n",
       "      <td>[Adventure, Fantasy, Family]</td>\n",
       "      <td>NaN</td>\n",
       "      <td>8844</td>\n",
       "      <td>tt0113497</td>\n",
       "      <td>en</td>\n",
       "      <td>jumanji</td>\n",
       "      <td>When siblings Judy and Peter discover an encha...</td>\n",
       "      <td>...</td>\n",
       "      <td>[{'id': 10090, 'name': 'board game'}, {'id': 1...</td>\n",
       "      <td>[{'cast_id': 1, 'character': 'Alan Parrish', '...</td>\n",
       "      <td>[{'credit_id': '52fe44bfc3a36847f80a7cd1', 'de...</td>\n",
       "      <td>[{'id': 10090, 'name': 'board game'}, {'id': 1...</td>\n",
       "      <td>[{'cast_id': 1, 'character': 'Alan Parrish', '...</td>\n",
       "      <td>[{'credit_id': '52fe44bfc3a36847f80a7cd1', 'de...</td>\n",
       "      <td>[{'id': 10090, 'name': 'board game'}, {'id': 1...</td>\n",
       "      <td>[{'cast_id': 1, 'character': 'Alan Parrish', '...</td>\n",
       "      <td>[{'credit_id': '52fe44bfc3a36847f80a7cd1', 'de...</td>\n",
       "      <td>[{'id': 10090, 'name': 'board game'}, {'id': 1...</td>\n",
       "    </tr>\n",
       "    <tr>\n",
       "      <th>2</th>\n",
       "      <td>False</td>\n",
       "      <td>{'id': 119050, 'name': 'Grumpy Old Men Collect...</td>\n",
       "      <td>0</td>\n",
       "      <td>[Romance, Comedy]</td>\n",
       "      <td>NaN</td>\n",
       "      <td>15602</td>\n",
       "      <td>tt0113228</td>\n",
       "      <td>en</td>\n",
       "      <td>grumpier old men</td>\n",
       "      <td>A family wedding reignites the ancient feud be...</td>\n",
       "      <td>...</td>\n",
       "      <td>[{'id': 1495, 'name': 'fishing'}, {'id': 12392...</td>\n",
       "      <td>[{'cast_id': 2, 'character': 'Max Goldman', 'c...</td>\n",
       "      <td>[{'credit_id': '52fe466a9251416c75077a89', 'de...</td>\n",
       "      <td>[{'id': 1495, 'name': 'fishing'}, {'id': 12392...</td>\n",
       "      <td>[{'cast_id': 2, 'character': 'Max Goldman', 'c...</td>\n",
       "      <td>[{'credit_id': '52fe466a9251416c75077a89', 'de...</td>\n",
       "      <td>[{'id': 1495, 'name': 'fishing'}, {'id': 12392...</td>\n",
       "      <td>[{'cast_id': 2, 'character': 'Max Goldman', 'c...</td>\n",
       "      <td>[{'credit_id': '52fe466a9251416c75077a89', 'de...</td>\n",
       "      <td>[{'id': 1495, 'name': 'fishing'}, {'id': 12392...</td>\n",
       "    </tr>\n",
       "    <tr>\n",
       "      <th>3</th>\n",
       "      <td>False</td>\n",
       "      <td>NaN</td>\n",
       "      <td>16000000</td>\n",
       "      <td>[Comedy, Drama, Romance]</td>\n",
       "      <td>NaN</td>\n",
       "      <td>31357</td>\n",
       "      <td>tt0114885</td>\n",
       "      <td>en</td>\n",
       "      <td>waiting to exhale</td>\n",
       "      <td>Cheated on, mistreated and stepped on, the wom...</td>\n",
       "      <td>...</td>\n",
       "      <td>[{'id': 818, 'name': 'based on novel'}, {'id':...</td>\n",
       "      <td>[{'cast_id': 1, 'character': \"Savannah 'Vannah...</td>\n",
       "      <td>[{'credit_id': '52fe44779251416c91011acb', 'de...</td>\n",
       "      <td>[{'id': 818, 'name': 'based on novel'}, {'id':...</td>\n",
       "      <td>[{'cast_id': 1, 'character': \"Savannah 'Vannah...</td>\n",
       "      <td>[{'credit_id': '52fe44779251416c91011acb', 'de...</td>\n",
       "      <td>[{'id': 818, 'name': 'based on novel'}, {'id':...</td>\n",
       "      <td>[{'cast_id': 1, 'character': \"Savannah 'Vannah...</td>\n",
       "      <td>[{'credit_id': '52fe44779251416c91011acb', 'de...</td>\n",
       "      <td>[{'id': 818, 'name': 'based on novel'}, {'id':...</td>\n",
       "    </tr>\n",
       "    <tr>\n",
       "      <th>4</th>\n",
       "      <td>False</td>\n",
       "      <td>{'id': 96871, 'name': 'Father of the Bride Col...</td>\n",
       "      <td>0</td>\n",
       "      <td>[Comedy]</td>\n",
       "      <td>NaN</td>\n",
       "      <td>11862</td>\n",
       "      <td>tt0113041</td>\n",
       "      <td>en</td>\n",
       "      <td>father of the bride part ii</td>\n",
       "      <td>Just when George Banks has recovered from his ...</td>\n",
       "      <td>...</td>\n",
       "      <td>[{'id': 1009, 'name': 'baby'}, {'id': 1599, 'n...</td>\n",
       "      <td>[{'cast_id': 1, 'character': 'George Banks', '...</td>\n",
       "      <td>[{'credit_id': '52fe44959251416c75039ed7', 'de...</td>\n",
       "      <td>[{'id': 1009, 'name': 'baby'}, {'id': 1599, 'n...</td>\n",
       "      <td>[{'cast_id': 1, 'character': 'George Banks', '...</td>\n",
       "      <td>[{'credit_id': '52fe44959251416c75039ed7', 'de...</td>\n",
       "      <td>[{'id': 1009, 'name': 'baby'}, {'id': 1599, 'n...</td>\n",
       "      <td>[{'cast_id': 1, 'character': 'George Banks', '...</td>\n",
       "      <td>[{'credit_id': '52fe44959251416c75039ed7', 'de...</td>\n",
       "      <td>[{'id': 1009, 'name': 'baby'}, {'id': 1599, 'n...</td>\n",
       "    </tr>\n",
       "  </tbody>\n",
       "</table>\n",
       "<p>5 rows × 40 columns</p>\n",
       "</div>"
      ],
      "text/plain": [
       "   adult                              belongs_to_collection    budget  \\\n",
       "0  False  {'id': 10194, 'name': 'Toy Story Collection', ...  30000000   \n",
       "1  False                                                NaN  65000000   \n",
       "2  False  {'id': 119050, 'name': 'Grumpy Old Men Collect...         0   \n",
       "3  False                                                NaN  16000000   \n",
       "4  False  {'id': 96871, 'name': 'Father of the Bride Col...         0   \n",
       "\n",
       "                         genres                              homepage     id  \\\n",
       "0   [Animation, Comedy, Family]  http://toystory.disney.com/toy-story    862   \n",
       "1  [Adventure, Fantasy, Family]                                   NaN   8844   \n",
       "2             [Romance, Comedy]                                   NaN  15602   \n",
       "3      [Comedy, Drama, Romance]                                   NaN  31357   \n",
       "4                      [Comedy]                                   NaN  11862   \n",
       "\n",
       "     imdb_id original_language               original_title  \\\n",
       "0  tt0114709                en                    toy story   \n",
       "1  tt0113497                en                      jumanji   \n",
       "2  tt0113228                en             grumpier old men   \n",
       "3  tt0114885                en            waiting to exhale   \n",
       "4  tt0113041                en  father of the bride part ii   \n",
       "\n",
       "                                            overview  ...  \\\n",
       "0  Led by Woody, Andy's toys live happily in his ...  ...   \n",
       "1  When siblings Judy and Peter discover an encha...  ...   \n",
       "2  A family wedding reignites the ancient feud be...  ...   \n",
       "3  Cheated on, mistreated and stepped on, the wom...  ...   \n",
       "4  Just when George Banks has recovered from his ...  ...   \n",
       "\n",
       "                                          keywords_y  \\\n",
       "0  [{'id': 931, 'name': 'jealousy'}, {'id': 4290,...   \n",
       "1  [{'id': 10090, 'name': 'board game'}, {'id': 1...   \n",
       "2  [{'id': 1495, 'name': 'fishing'}, {'id': 12392...   \n",
       "3  [{'id': 818, 'name': 'based on novel'}, {'id':...   \n",
       "4  [{'id': 1009, 'name': 'baby'}, {'id': 1599, 'n...   \n",
       "\n",
       "                                              cast_x  \\\n",
       "0  [{'cast_id': 14, 'character': 'Woody (voice)',...   \n",
       "1  [{'cast_id': 1, 'character': 'Alan Parrish', '...   \n",
       "2  [{'cast_id': 2, 'character': 'Max Goldman', 'c...   \n",
       "3  [{'cast_id': 1, 'character': \"Savannah 'Vannah...   \n",
       "4  [{'cast_id': 1, 'character': 'George Banks', '...   \n",
       "\n",
       "                                              crew_x  \\\n",
       "0  [{'credit_id': '52fe4284c3a36847f8024f49', 'de...   \n",
       "1  [{'credit_id': '52fe44bfc3a36847f80a7cd1', 'de...   \n",
       "2  [{'credit_id': '52fe466a9251416c75077a89', 'de...   \n",
       "3  [{'credit_id': '52fe44779251416c91011acb', 'de...   \n",
       "4  [{'credit_id': '52fe44959251416c75039ed7', 'de...   \n",
       "\n",
       "                                          keywords_x  \\\n",
       "0  [{'id': 931, 'name': 'jealousy'}, {'id': 4290,...   \n",
       "1  [{'id': 10090, 'name': 'board game'}, {'id': 1...   \n",
       "2  [{'id': 1495, 'name': 'fishing'}, {'id': 12392...   \n",
       "3  [{'id': 818, 'name': 'based on novel'}, {'id':...   \n",
       "4  [{'id': 1009, 'name': 'baby'}, {'id': 1599, 'n...   \n",
       "\n",
       "                                              cast_y  \\\n",
       "0  [{'cast_id': 14, 'character': 'Woody (voice)',...   \n",
       "1  [{'cast_id': 1, 'character': 'Alan Parrish', '...   \n",
       "2  [{'cast_id': 2, 'character': 'Max Goldman', 'c...   \n",
       "3  [{'cast_id': 1, 'character': \"Savannah 'Vannah...   \n",
       "4  [{'cast_id': 1, 'character': 'George Banks', '...   \n",
       "\n",
       "                                              crew_y  \\\n",
       "0  [{'credit_id': '52fe4284c3a36847f8024f49', 'de...   \n",
       "1  [{'credit_id': '52fe44bfc3a36847f80a7cd1', 'de...   \n",
       "2  [{'credit_id': '52fe466a9251416c75077a89', 'de...   \n",
       "3  [{'credit_id': '52fe44779251416c91011acb', 'de...   \n",
       "4  [{'credit_id': '52fe44959251416c75039ed7', 'de...   \n",
       "\n",
       "                                          keywords_y  \\\n",
       "0  [{'id': 931, 'name': 'jealousy'}, {'id': 4290,...   \n",
       "1  [{'id': 10090, 'name': 'board game'}, {'id': 1...   \n",
       "2  [{'id': 1495, 'name': 'fishing'}, {'id': 12392...   \n",
       "3  [{'id': 818, 'name': 'based on novel'}, {'id':...   \n",
       "4  [{'id': 1009, 'name': 'baby'}, {'id': 1599, 'n...   \n",
       "\n",
       "                                                cast  \\\n",
       "0  [{'cast_id': 14, 'character': 'Woody (voice)',...   \n",
       "1  [{'cast_id': 1, 'character': 'Alan Parrish', '...   \n",
       "2  [{'cast_id': 2, 'character': 'Max Goldman', 'c...   \n",
       "3  [{'cast_id': 1, 'character': \"Savannah 'Vannah...   \n",
       "4  [{'cast_id': 1, 'character': 'George Banks', '...   \n",
       "\n",
       "                                                crew  \\\n",
       "0  [{'credit_id': '52fe4284c3a36847f8024f49', 'de...   \n",
       "1  [{'credit_id': '52fe44bfc3a36847f80a7cd1', 'de...   \n",
       "2  [{'credit_id': '52fe466a9251416c75077a89', 'de...   \n",
       "3  [{'credit_id': '52fe44779251416c91011acb', 'de...   \n",
       "4  [{'credit_id': '52fe44959251416c75039ed7', 'de...   \n",
       "\n",
       "                                            keywords  \n",
       "0  [{'id': 931, 'name': 'jealousy'}, {'id': 4290,...  \n",
       "1  [{'id': 10090, 'name': 'board game'}, {'id': 1...  \n",
       "2  [{'id': 1495, 'name': 'fishing'}, {'id': 12392...  \n",
       "3  [{'id': 818, 'name': 'based on novel'}, {'id':...  \n",
       "4  [{'id': 1009, 'name': 'baby'}, {'id': 1599, 'n...  \n",
       "\n",
       "[5 rows x 40 columns]"
      ]
     },
     "execution_count": 191,
     "metadata": {},
     "output_type": "execute_result"
    }
   ],
   "source": [
    "smovie_df.head()"
   ]
  },
  {
   "cell_type": "markdown",
   "id": "83056f90",
   "metadata": {},
   "source": [
    "We now have our cast, crew, genres and credits, all in one dataframe. Let us wrangle this a little more using the following intuitions:\n",
    "\n",
    "Crew: From the crew, we will only pick the director as our feature since the others don't contribute that much to the feel of the movie.\n",
    "Cast: Choosing Cast is a little more tricky. Lesser known actors and minor roles do not really affect people's opinion of a movie. Therefore, we must only select the major characters and their respective actors. Arbitrarily we will choose the top 3 actors that appear in the credits list."
   ]
  },
  {
   "cell_type": "code",
   "execution_count": 192,
   "id": "6fba7168",
   "metadata": {},
   "outputs": [],
   "source": [
    "smovie_df['cast'] = smovie_df['cast'].apply(literal_eval)\n",
    "smovie_df['crew'] = smovie_df['crew'].apply(literal_eval)\n",
    "smovie_df['keywords'] = smovie_df['keywords'].apply(literal_eval)\n",
    "smovie_df['cast_size'] = smovie_df['cast'].apply(lambda x: len(x))\n",
    "smovie_df['crew_size'] = smovie_df['crew'].apply(lambda x: len(x))"
   ]
  },
  {
   "cell_type": "code",
   "execution_count": 193,
   "id": "0f26c4f3",
   "metadata": {},
   "outputs": [],
   "source": [
    "def get_directors(x):\n",
    "    for i in x:\n",
    "        if i['job'] == 'Director':\n",
    "            return i['name']\n",
    "    return np.nan"
   ]
  },
  {
   "cell_type": "code",
   "execution_count": 194,
   "id": "1473ae41",
   "metadata": {},
   "outputs": [],
   "source": [
    "smovie_df['director'] = smovie_df['crew'].apply(get_directors)"
   ]
  },
  {
   "cell_type": "code",
   "execution_count": 195,
   "id": "dccec418",
   "metadata": {},
   "outputs": [],
   "source": [
    "smovie_df['cast'] = smovie_df['cast'].apply(lambda x: [i['name'] for i in x] if isinstance(x, list) else [])\n",
    "smovie_df['cast'] = smovie_df['cast'].apply(lambda x: x[:3] if len(x) >=3 else x)"
   ]
  },
  {
   "cell_type": "code",
   "execution_count": 196,
   "id": "0c077101",
   "metadata": {},
   "outputs": [],
   "source": [
    "smovie_df['keywords'] = smovie_df['keywords'].apply(lambda x: [i['name'] for i in x] if isinstance(x, list) else [])"
   ]
  },
  {
   "cell_type": "markdown",
   "id": "d77f08c6",
   "metadata": {},
   "source": [
    "These are steps I follow in the preparation of my genres and credits data:\n",
    "\n",
    "Strip Spaces and Convert to Lowercase from all our features. This way, our engine will not confuse between Johnny Depp and Johnny Galecki.\n",
    "Mention Director 3 times to give it more weight relative to the entire cast."
   ]
  },
  {
   "cell_type": "code",
   "execution_count": 197,
   "id": "36c36fd9",
   "metadata": {},
   "outputs": [],
   "source": [
    "smovie_df['cast'] = smovie_df['cast'].apply(lambda x: [str.lower(i.replace(\" \", \" \")) for i in x])"
   ]
  },
  {
   "cell_type": "code",
   "execution_count": 198,
   "id": "cf28a685",
   "metadata": {},
   "outputs": [],
   "source": [
    "smovie_df['director'] = smovie_df['director'].astype('str').apply(lambda x: str.lower(x.replace(\" \", \" \")))\n",
    "smovie_df['director'] = smovie_df['director'].apply(lambda x: [x,x, x])"
   ]
  },
  {
   "cell_type": "markdown",
   "id": "e384bae9",
   "metadata": {},
   "source": [
    "Keywords\n",
    "\n",
    "\n",
    "We will do a small amount of pre-processing of our keywords before putting them to any use. As a first step, we calculate the frequenct counts of every keyword that appears in the dataset."
   ]
  },
  {
   "cell_type": "code",
   "execution_count": 199,
   "id": "fa22470d",
   "metadata": {},
   "outputs": [],
   "source": [
    "s = smovie_df.apply(lambda x: pd.Series(x['keywords']),axis=1).stack().reset_index(level=1, drop=True)\n",
    "s.name = 'keyword'"
   ]
  },
  {
   "cell_type": "code",
   "execution_count": 200,
   "id": "673663ef",
   "metadata": {},
   "outputs": [
    {
     "data": {
      "text/plain": [
       "biography           4288\n",
       "best friend         4163\n",
       "pokémon             4097\n",
       "woman director      2650\n",
       "independent film    2650\n",
       "Name: keyword, dtype: int64"
      ]
     },
     "execution_count": 200,
     "metadata": {},
     "output_type": "execute_result"
    }
   ],
   "source": [
    "s = s.value_counts()\n",
    "s[:5]"
   ]
  },
  {
   "cell_type": "code",
   "execution_count": 201,
   "id": "6de87a3c",
   "metadata": {},
   "outputs": [],
   "source": [
    "s = s[s > 1]"
   ]
  },
  {
   "cell_type": "code",
   "execution_count": 202,
   "id": "e3bb4e7c",
   "metadata": {},
   "outputs": [
    {
     "data": {
      "text/plain": [
       "'dog'"
      ]
     },
     "execution_count": 202,
     "metadata": {},
     "output_type": "execute_result"
    }
   ],
   "source": [
    "stemmer = SnowballStemmer('english')\n",
    "stemmer.stem('dogs')"
   ]
  },
  {
   "cell_type": "code",
   "execution_count": 203,
   "id": "ecbd7a5e",
   "metadata": {},
   "outputs": [],
   "source": [
    "def filter_keywords(x):\n",
    "    words = []\n",
    "    for i in x:\n",
    "        if i in s:\n",
    "            words.append(i)\n",
    "    return words"
   ]
  },
  {
   "cell_type": "code",
   "execution_count": 204,
   "id": "53f0d4eb",
   "metadata": {},
   "outputs": [],
   "source": [
    "smovie_df['keywords'] = smovie_df['keywords'].apply(filter_keywords)\n",
    "smovie_df['keywords'] = smovie_df['keywords'].apply(lambda x: [stemmer.stem(i) for i in x])\n",
    "smovie_df['keywords'] = smovie_df['keywords'].apply(lambda x: [str.lower(i.replace(\" \", \" \")) for i in x])"
   ]
  },
  {
   "cell_type": "code",
   "execution_count": 205,
   "id": "abbf4d9d",
   "metadata": {},
   "outputs": [],
   "source": [
    "smovie_df['soup'] = smovie_df['keywords'] + smovie_df['cast'] + smovie_df['director'] + smovie_df['genres']\n",
    "smovie_df['soup'] = smovie_df['soup'].apply(lambda x: ' '.join(x))"
   ]
  },
  {
   "cell_type": "code",
   "execution_count": 206,
   "id": "8f3bc2de",
   "metadata": {},
   "outputs": [
    {
     "data": {
      "text/plain": [
       "'jealousi toy boy friendship friend rivalri boy next door new toy toy comes to lif tom hanks tim allen don rickles john lasseter john lasseter john lasseter Animation Comedy Family'"
      ]
     },
     "execution_count": 206,
     "metadata": {},
     "output_type": "execute_result"
    }
   ],
   "source": [
    "smovie_df['soup'][0]"
   ]
  },
  {
   "cell_type": "code",
   "execution_count": 207,
   "id": "2115875b",
   "metadata": {},
   "outputs": [],
   "source": [
    "smovie_df = smovie_df.sort_values('title', ascending=False).drop_duplicates('title').sort_index()"
   ]
  },
  {
   "cell_type": "code",
   "execution_count": 208,
   "id": "c841c202",
   "metadata": {},
   "outputs": [],
   "source": [
    "smovie_df.to_csv('content_recom.csv',index=False)"
   ]
  },
  {
   "cell_type": "code",
   "execution_count": 51,
   "id": "2eee80a6",
   "metadata": {},
   "outputs": [],
   "source": [
    "count = CountVectorizer(analyzer='word',ngram_range=(1, 2),min_df=0, stop_words='english')\n",
    "count_matrix = count.fit_transform(smovie_df['soup'])"
   ]
  },
  {
   "cell_type": "code",
   "execution_count": 52,
   "id": "60511196",
   "metadata": {},
   "outputs": [],
   "source": [
    "cosine_sim = cosine_similarity(count_matrix, count_matrix)"
   ]
  },
  {
   "cell_type": "code",
   "execution_count": 53,
   "id": "f2f29b7c",
   "metadata": {},
   "outputs": [],
   "source": [
    "smovie_df = smovie_df.reset_index()\n",
    "titles = smovie_df['title']\n",
    "indices = pd.Series(smovie_df.index, index=smovie_df['title'])"
   ]
  },
  {
   "cell_type": "code",
   "execution_count": 54,
   "id": "9b406c69",
   "metadata": {
    "scrolled": true
   },
   "outputs": [
    {
     "data": {
      "text/plain": [
       "1590     Back to the Future Part II\n",
       "1591    Back to the Future Part III\n",
       "3990                      Used Cars\n",
       "3239                      Cast Away\n",
       "9031                       The Walk\n",
       "5689              The Polar Express\n",
       "2630              Death Becomes Her\n",
       "2414        Who Framed Roger Rabbit\n",
       "6892                        Beowulf\n",
       "1274                        Contact\n",
       "Name: title, dtype: object"
      ]
     },
     "execution_count": 54,
     "metadata": {},
     "output_type": "execute_result"
    }
   ],
   "source": [
    "get_recommendations('Back to the Future').head(10)"
   ]
  },
  {
   "cell_type": "markdown",
   "id": "93a8645a",
   "metadata": {},
   "source": [
    "Popularity and Ratings\n",
    "\n",
    "I will take the top 25 movies based on similarity scores and calculate the vote of the 60th percentile movie. Then, using this as the value of  m\n",
    " , we will calculate the weighted rating of each movie using IMDB's formula like we did in the Simple Recommender section."
   ]
  },
  {
   "cell_type": "code",
   "execution_count": 177,
   "id": "2f2d2fc8",
   "metadata": {
    "scrolled": true
   },
   "outputs": [
    {
     "data": {
      "text/html": [
       "<div>\n",
       "<style scoped>\n",
       "    .dataframe tbody tr th:only-of-type {\n",
       "        vertical-align: middle;\n",
       "    }\n",
       "\n",
       "    .dataframe tbody tr th {\n",
       "        vertical-align: top;\n",
       "    }\n",
       "\n",
       "    .dataframe thead th {\n",
       "        text-align: right;\n",
       "    }\n",
       "</style>\n",
       "<table border=\"1\" class=\"dataframe\">\n",
       "  <thead>\n",
       "    <tr style=\"text-align: right;\">\n",
       "      <th></th>\n",
       "      <th>index</th>\n",
       "      <th>adult</th>\n",
       "      <th>belongs_to_collection</th>\n",
       "      <th>budget</th>\n",
       "      <th>genres</th>\n",
       "      <th>homepage</th>\n",
       "      <th>id</th>\n",
       "      <th>imdb_id</th>\n",
       "      <th>original_language</th>\n",
       "      <th>original_title</th>\n",
       "      <th>...</th>\n",
       "      <th>vote_average</th>\n",
       "      <th>vote_count</th>\n",
       "      <th>year</th>\n",
       "      <th>cast</th>\n",
       "      <th>crew</th>\n",
       "      <th>keywords</th>\n",
       "      <th>cast_size</th>\n",
       "      <th>crew_size</th>\n",
       "      <th>director</th>\n",
       "      <th>soup</th>\n",
       "    </tr>\n",
       "  </thead>\n",
       "  <tbody>\n",
       "    <tr>\n",
       "      <th>0</th>\n",
       "      <td>0</td>\n",
       "      <td>False</td>\n",
       "      <td>{'id': 10194, 'name': 'Toy Story Collection', ...</td>\n",
       "      <td>30000000</td>\n",
       "      <td>[Animation, Comedy, Family]</td>\n",
       "      <td>http://toystory.disney.com/toy-story</td>\n",
       "      <td>862</td>\n",
       "      <td>tt0114709</td>\n",
       "      <td>en</td>\n",
       "      <td>toy story</td>\n",
       "      <td>...</td>\n",
       "      <td>7.7</td>\n",
       "      <td>5415.0</td>\n",
       "      <td>1995</td>\n",
       "      <td>[tomhanks, timallen, donrickles]</td>\n",
       "      <td>[{'credit_id': '52fe4284c3a36847f8024f49', 'de...</td>\n",
       "      <td>[jealousi, toy, boy, friendship, friend, rival...</td>\n",
       "      <td>13</td>\n",
       "      <td>106</td>\n",
       "      <td>[johnlasseter, johnlasseter, johnlasseter]</td>\n",
       "      <td>jealousi toy boy friendship friend rivalri boy...</td>\n",
       "    </tr>\n",
       "    <tr>\n",
       "      <th>1</th>\n",
       "      <td>1</td>\n",
       "      <td>False</td>\n",
       "      <td>NaN</td>\n",
       "      <td>65000000</td>\n",
       "      <td>[Adventure, Fantasy, Family]</td>\n",
       "      <td>NaN</td>\n",
       "      <td>8844</td>\n",
       "      <td>tt0113497</td>\n",
       "      <td>en</td>\n",
       "      <td>jumanji</td>\n",
       "      <td>...</td>\n",
       "      <td>6.9</td>\n",
       "      <td>2413.0</td>\n",
       "      <td>1995</td>\n",
       "      <td>[robinwilliams, jonathanhyde, kirstendunst]</td>\n",
       "      <td>[{'credit_id': '52fe44bfc3a36847f80a7cd1', 'de...</td>\n",
       "      <td>[boardgam, disappear, basedonchildren'sbook, n...</td>\n",
       "      <td>26</td>\n",
       "      <td>16</td>\n",
       "      <td>[joejohnston, joejohnston, joejohnston]</td>\n",
       "      <td>boardgam disappear basedonchildren'sbook newho...</td>\n",
       "    </tr>\n",
       "    <tr>\n",
       "      <th>2</th>\n",
       "      <td>2</td>\n",
       "      <td>False</td>\n",
       "      <td>{'id': 119050, 'name': 'Grumpy Old Men Collect...</td>\n",
       "      <td>0</td>\n",
       "      <td>[Romance, Comedy]</td>\n",
       "      <td>NaN</td>\n",
       "      <td>15602</td>\n",
       "      <td>tt0113228</td>\n",
       "      <td>en</td>\n",
       "      <td>grumpier old men</td>\n",
       "      <td>...</td>\n",
       "      <td>6.5</td>\n",
       "      <td>92.0</td>\n",
       "      <td>1995</td>\n",
       "      <td>[waltermatthau, jacklemmon, ann-margret]</td>\n",
       "      <td>[{'credit_id': '52fe466a9251416c75077a89', 'de...</td>\n",
       "      <td>[fish, bestfriend, duringcreditssting]</td>\n",
       "      <td>7</td>\n",
       "      <td>4</td>\n",
       "      <td>[howarddeutch, howarddeutch, howarddeutch]</td>\n",
       "      <td>fish bestfriend duringcreditssting waltermatth...</td>\n",
       "    </tr>\n",
       "    <tr>\n",
       "      <th>3</th>\n",
       "      <td>3</td>\n",
       "      <td>False</td>\n",
       "      <td>NaN</td>\n",
       "      <td>16000000</td>\n",
       "      <td>[Comedy, Drama, Romance]</td>\n",
       "      <td>NaN</td>\n",
       "      <td>31357</td>\n",
       "      <td>tt0114885</td>\n",
       "      <td>en</td>\n",
       "      <td>waiting to exhale</td>\n",
       "      <td>...</td>\n",
       "      <td>6.1</td>\n",
       "      <td>34.0</td>\n",
       "      <td>1995</td>\n",
       "      <td>[whitneyhouston, angelabassett, lorettadevine]</td>\n",
       "      <td>[{'credit_id': '52fe44779251416c91011acb', 'de...</td>\n",
       "      <td>[basedonnovel, interracialrelationship, single...</td>\n",
       "      <td>10</td>\n",
       "      <td>10</td>\n",
       "      <td>[forestwhitaker, forestwhitaker, forestwhitaker]</td>\n",
       "      <td>basedonnovel interracialrelationship singlemot...</td>\n",
       "    </tr>\n",
       "    <tr>\n",
       "      <th>4</th>\n",
       "      <td>4</td>\n",
       "      <td>False</td>\n",
       "      <td>{'id': 96871, 'name': 'Father of the Bride Col...</td>\n",
       "      <td>0</td>\n",
       "      <td>[Comedy]</td>\n",
       "      <td>NaN</td>\n",
       "      <td>11862</td>\n",
       "      <td>tt0113041</td>\n",
       "      <td>en</td>\n",
       "      <td>father of the bride part ii</td>\n",
       "      <td>...</td>\n",
       "      <td>5.7</td>\n",
       "      <td>173.0</td>\n",
       "      <td>1995</td>\n",
       "      <td>[stevemartin, dianekeaton, martinshort]</td>\n",
       "      <td>[{'credit_id': '52fe44959251416c75039ed7', 'de...</td>\n",
       "      <td>[babi, midlifecrisi, confid, age, daughter, mo...</td>\n",
       "      <td>12</td>\n",
       "      <td>7</td>\n",
       "      <td>[charlesshyer, charlesshyer, charlesshyer]</td>\n",
       "      <td>babi midlifecrisi confid age daughter motherda...</td>\n",
       "    </tr>\n",
       "  </tbody>\n",
       "</table>\n",
       "<p>5 rows × 33 columns</p>\n",
       "</div>"
      ],
      "text/plain": [
       "   index  adult                              belongs_to_collection    budget  \\\n",
       "0      0  False  {'id': 10194, 'name': 'Toy Story Collection', ...  30000000   \n",
       "1      1  False                                                NaN  65000000   \n",
       "2      2  False  {'id': 119050, 'name': 'Grumpy Old Men Collect...         0   \n",
       "3      3  False                                                NaN  16000000   \n",
       "4      4  False  {'id': 96871, 'name': 'Father of the Bride Col...         0   \n",
       "\n",
       "                         genres                              homepage     id  \\\n",
       "0   [Animation, Comedy, Family]  http://toystory.disney.com/toy-story    862   \n",
       "1  [Adventure, Fantasy, Family]                                   NaN   8844   \n",
       "2             [Romance, Comedy]                                   NaN  15602   \n",
       "3      [Comedy, Drama, Romance]                                   NaN  31357   \n",
       "4                      [Comedy]                                   NaN  11862   \n",
       "\n",
       "     imdb_id original_language               original_title  ... vote_average  \\\n",
       "0  tt0114709                en                    toy story  ...          7.7   \n",
       "1  tt0113497                en                      jumanji  ...          6.9   \n",
       "2  tt0113228                en             grumpier old men  ...          6.5   \n",
       "3  tt0114885                en            waiting to exhale  ...          6.1   \n",
       "4  tt0113041                en  father of the bride part ii  ...          5.7   \n",
       "\n",
       "  vote_count  year                                            cast  \\\n",
       "0     5415.0  1995                [tomhanks, timallen, donrickles]   \n",
       "1     2413.0  1995     [robinwilliams, jonathanhyde, kirstendunst]   \n",
       "2       92.0  1995        [waltermatthau, jacklemmon, ann-margret]   \n",
       "3       34.0  1995  [whitneyhouston, angelabassett, lorettadevine]   \n",
       "4      173.0  1995         [stevemartin, dianekeaton, martinshort]   \n",
       "\n",
       "                                                crew  \\\n",
       "0  [{'credit_id': '52fe4284c3a36847f8024f49', 'de...   \n",
       "1  [{'credit_id': '52fe44bfc3a36847f80a7cd1', 'de...   \n",
       "2  [{'credit_id': '52fe466a9251416c75077a89', 'de...   \n",
       "3  [{'credit_id': '52fe44779251416c91011acb', 'de...   \n",
       "4  [{'credit_id': '52fe44959251416c75039ed7', 'de...   \n",
       "\n",
       "                                            keywords  cast_size  crew_size  \\\n",
       "0  [jealousi, toy, boy, friendship, friend, rival...         13        106   \n",
       "1  [boardgam, disappear, basedonchildren'sbook, n...         26         16   \n",
       "2             [fish, bestfriend, duringcreditssting]          7          4   \n",
       "3  [basedonnovel, interracialrelationship, single...         10         10   \n",
       "4  [babi, midlifecrisi, confid, age, daughter, mo...         12          7   \n",
       "\n",
       "                                           director  \\\n",
       "0        [johnlasseter, johnlasseter, johnlasseter]   \n",
       "1           [joejohnston, joejohnston, joejohnston]   \n",
       "2        [howarddeutch, howarddeutch, howarddeutch]   \n",
       "3  [forestwhitaker, forestwhitaker, forestwhitaker]   \n",
       "4        [charlesshyer, charlesshyer, charlesshyer]   \n",
       "\n",
       "                                                soup  \n",
       "0  jealousi toy boy friendship friend rivalri boy...  \n",
       "1  boardgam disappear basedonchildren'sbook newho...  \n",
       "2  fish bestfriend duringcreditssting waltermatth...  \n",
       "3  basedonnovel interracialrelationship singlemot...  \n",
       "4  babi midlifecrisi confid age daughter motherda...  \n",
       "\n",
       "[5 rows x 33 columns]"
      ]
     },
     "execution_count": 177,
     "metadata": {},
     "output_type": "execute_result"
    }
   ],
   "source": [
    "smovie_df.head()"
   ]
  },
  {
   "cell_type": "code",
   "execution_count": 120,
   "id": "30f39321",
   "metadata": {},
   "outputs": [],
   "source": [
    "count = CountVectorizer(analyzer='word',ngram_range=(1, 2),min_df=0, stop_words='english')\n",
    "count_matrix = count.fit_transform(smovie_df['soup'])\n",
    "cosine_sim = cosine_similarity(count_matrix, count_matrix)\n",
    "smovie_df = smovie_df.reset_index()\n",
    "titles = smovie_df['title']\n",
    "indices = pd.Series(smovie_df.index, index=smovie_df['title'])"
   ]
  },
  {
   "cell_type": "code",
   "execution_count": 55,
   "id": "089461c2",
   "metadata": {},
   "outputs": [],
   "source": [
    "\n",
    "\n",
    "def recommendations_content(title):\n",
    "    idx = indices[title]\n",
    "    sim_scores = list(enumerate(cosine_sim[idx]))\n",
    "    sim_scores = sorted(sim_scores, key=lambda x: x[1], reverse=True)\n",
    "    sim_scores = sim_scores[1:26]\n",
    "    movie_indices = [i[0] for i in sim_scores]\n",
    "    \n",
    "    movies = smovie_df.iloc[movie_indices][['title', 'vote_count', 'vote_average', 'year']]\n",
    "    vote_counts = movies[movies['vote_count'].notnull()]['vote_count'].astype('int')\n",
    "    vote_averages = movies[movies['vote_average'].notnull()]['vote_average'].astype('int')\n",
    "    C = vote_averages.mean()\n",
    "    m = vote_counts.quantile(0.60)\n",
    "    qualified = movies[(movies['vote_count'] >= m) & (movies['vote_count'].notnull()) & (movies['vote_average'].notnull())]\n",
    "    qualified['vote_count'] = qualified['vote_count'].astype('int')\n",
    "    qualified['vote_average'] = qualified['vote_average'].astype('int')\n",
    "    qualified['wr'] = qualified.apply(weighted_rating, axis=1)\n",
    "    qualified = qualified.sort_values('wr', ascending=False).head(10)\n",
    "    return qualified"
   ]
  },
  {
   "cell_type": "code",
   "execution_count": 100,
   "id": "6bb5cddd",
   "metadata": {},
   "outputs": [],
   "source": [
    "#Tokenization of text\n",
    "tokenizer=ToktokTokenizer()\n",
    "#Setting English stopwords\n",
    "stopword_list=nltk.corpus.stopwords.words('english')"
   ]
  },
  {
   "cell_type": "code",
   "execution_count": 142,
   "id": "92afd9c0",
   "metadata": {},
   "outputs": [
    {
     "name": "stdout",
     "output_type": "stream",
     "text": [
      "hello good movi\n",
      "(10000,)\n"
     ]
    }
   ],
   "source": [
    "def txt_clean(text):\n",
    "    text = strip_html(text)\n",
    "    text = remove_between_square_brackets(text)\n",
    "    text = remove_special_characters(text)\n",
    "    text = simple_stemmer(text)\n",
    "    text = remove_stopwords(text)\n",
    "    print(text)\n",
    "#     text = simple_stemmer(text)\n",
    "    op = cv.transform(norm_test_reviews)\n",
    "    return op\n",
    "\n",
    "# print(txt_clean('hello i\\'m sudeep he\\'s ads ksksk'))\n",
    "a=txt_clean('hello good movies')\n",
    "adc=lr.predict(a)\n",
    "print(adc.shape)\n",
    "    \n",
    "    "
   ]
  },
  {
   "cell_type": "code",
   "execution_count": 101,
   "id": "49387377",
   "metadata": {},
   "outputs": [],
   "source": [
    "#Removing the html strips\n",
    "def strip_html(text):\n",
    "    soup = BeautifulSoup(text, \"html.parser\")\n",
    "    return soup.get_text()\n",
    "\n",
    "#Removing the square brackets\n",
    "def remove_between_square_brackets(text):\n",
    "    return re.sub('\\[[^]]*\\]', '', text)\n",
    "\n",
    "#Removing the noisy text\n",
    "def denoise_text(text):\n",
    "    text = strip_html(text)\n",
    "    text = remove_between_square_brackets(text)\n",
    "    return text\n",
    "#Apply function on review column\n",
    "imdb_data['review']=imdb_data['review'].apply(denoise_text)"
   ]
  },
  {
   "cell_type": "code",
   "execution_count": 102,
   "id": "1c03585e",
   "metadata": {},
   "outputs": [],
   "source": [
    "#Define function for removing special characters\n",
    "def remove_special_characters(text, remove_digits=True):\n",
    "    pattern=r'[^a-zA-z0-9\\s]'\n",
    "    text=re.sub(pattern,'',text)\n",
    "    return text\n",
    "#Apply function on review column\n",
    "imdb_data['review']=imdb_data['review'].apply(remove_special_characters)"
   ]
  },
  {
   "cell_type": "code",
   "execution_count": 103,
   "id": "c4799f16",
   "metadata": {},
   "outputs": [],
   "source": [
    "#Stemming the text\n",
    "def simple_stemmer(text):\n",
    "    ps=nltk.porter.PorterStemmer()\n",
    "    text= ' '.join([ps.stem(word) for word in text.split()])\n",
    "    return text\n",
    "#Apply function on review column\n",
    "imdb_data['review']=imdb_data['review'].apply(simple_stemmer)"
   ]
  },
  {
   "cell_type": "code",
   "execution_count": 104,
   "id": "8c033a3f",
   "metadata": {},
   "outputs": [
    {
     "name": "stdout",
     "output_type": "stream",
     "text": [
      "{'he', 'who', 'more', \"hasn't\", 'here', 'do', 'they', \"you're\", \"mustn't\", 'when', 'll', 'same', 'be', 'which', 'or', 'this', 'doesn', \"haven't\", 'the', 'than', 'o', 'didn', 'herself', 't', 'only', 'on', 'was', 'having', 'once', 'don', 'me', \"won't\", 'aren', 'any', 'hers', 'by', 'yours', 'such', 'theirs', 'further', 'out', \"you've\", 'after', 'their', 'themselves', 'why', 'can', \"isn't\", 'to', \"it's\", 'with', 'shan', 'that', 'doing', 'his', 'yourselves', 'an', 'ma', 'up', 'during', 's', 'its', 'haven', \"don't\", 'until', 'so', 'ourselves', 'there', 'won', 'should', 'what', 'how', 'while', 'just', \"hadn't\", 'wouldn', 'couldn', 'isn', 'y', \"you'll\", \"mightn't\", 'will', 'itself', 'does', 'a', 'for', 'she', 'off', 'were', 'under', 'weren', 'against', \"couldn't\", 'it', 'being', 'if', \"she's\", 'our', 'down', 'did', 'in', 'mustn', \"needn't\", \"wouldn't\", 'you', 'am', 'each', 'very', 've', 'hadn', 'nor', \"wasn't\", \"that'll\", 'too', 'where', 'my', 'because', 'most', 'd', 'not', 'him', 'is', 'i', 'have', 'some', 'before', 'are', 'about', \"you'd\", 'needn', \"aren't\", 'ours', 'both', 'few', 'whom', \"didn't\", 'those', 're', 'himself', 'own', 'from', 'as', 'but', 'again', 'at', 'all', 'has', 'through', 'mightn', \"weren't\", \"doesn't\", 'of', \"shan't\", 'm', 'now', 'shouldn', 'hasn', 'had', 'these', 'and', 'them', 'between', 'no', 'we', 'above', 'into', 'ain', 'your', 'her', 'myself', 'other', \"shouldn't\", 'wasn', 'been', 'below', \"should've\", 'yourself', 'then', 'over'}\n"
     ]
    }
   ],
   "source": [
    "#set stopwords to english\n",
    "stop=set(stopwords.words('english'))\n",
    "print(stop)\n",
    "\n",
    "#removing the stopwords\n",
    "def remove_stopwords(text, is_lower_case=False):\n",
    "    tokens = tokenizer.tokenize(text)\n",
    "    tokens = [token.strip() for token in tokens]\n",
    "    if is_lower_case:\n",
    "        filtered_tokens = [token for token in tokens if token not in stopword_list]\n",
    "    else:\n",
    "        filtered_tokens = [token for token in tokens if token.lower() not in stopword_list]\n",
    "    filtered_text = ' '.join(filtered_tokens)    \n",
    "    return filtered_text\n",
    "#Apply function on review column\n",
    "imdb_data['review']=imdb_data['review'].apply(remove_stopwords)"
   ]
  },
  {
   "cell_type": "code",
   "execution_count": null,
   "id": "0c98a4b9",
   "metadata": {},
   "outputs": [],
   "source": []
  },
  {
   "cell_type": "code",
   "execution_count": null,
   "id": "8e5c2994",
   "metadata": {},
   "outputs": [],
   "source": [
    "movie_df_ex.to_csv('tags_data.csv',index=False)"
   ]
  },
  {
   "cell_type": "code",
   "execution_count": 56,
   "id": "82af28e6",
   "metadata": {
    "scrolled": true
   },
   "outputs": [
    {
     "data": {
      "text/html": [
       "<div>\n",
       "<style scoped>\n",
       "    .dataframe tbody tr th:only-of-type {\n",
       "        vertical-align: middle;\n",
       "    }\n",
       "\n",
       "    .dataframe tbody tr th {\n",
       "        vertical-align: top;\n",
       "    }\n",
       "\n",
       "    .dataframe thead th {\n",
       "        text-align: right;\n",
       "    }\n",
       "</style>\n",
       "<table border=\"1\" class=\"dataframe\">\n",
       "  <thead>\n",
       "    <tr style=\"text-align: right;\">\n",
       "      <th></th>\n",
       "      <th>title</th>\n",
       "      <th>vote_count</th>\n",
       "      <th>vote_average</th>\n",
       "      <th>year</th>\n",
       "      <th>wr</th>\n",
       "    </tr>\n",
       "  </thead>\n",
       "  <tbody>\n",
       "    <tr>\n",
       "      <th>4863</th>\n",
       "      <td>Boyz n the Hood</td>\n",
       "      <td>377</td>\n",
       "      <td>7</td>\n",
       "      <td>1991</td>\n",
       "      <td>6.060771</td>\n",
       "    </tr>\n",
       "    <tr>\n",
       "      <th>8408</th>\n",
       "      <td>Fast &amp; Furious 6</td>\n",
       "      <td>5282</td>\n",
       "      <td>6</td>\n",
       "      <td>2013</td>\n",
       "      <td>5.942667</td>\n",
       "    </tr>\n",
       "    <tr>\n",
       "      <th>3481</th>\n",
       "      <td>The Fast and the Furious</td>\n",
       "      <td>3485</td>\n",
       "      <td>6</td>\n",
       "      <td>2001</td>\n",
       "      <td>5.916378</td>\n",
       "    </tr>\n",
       "    <tr>\n",
       "      <th>7266</th>\n",
       "      <td>Fast &amp; Furious</td>\n",
       "      <td>2426</td>\n",
       "      <td>6</td>\n",
       "      <td>2009</td>\n",
       "      <td>5.885414</td>\n",
       "    </tr>\n",
       "    <tr>\n",
       "      <th>6518</th>\n",
       "      <td>The Fast and the Furious: Tokyo Drift</td>\n",
       "      <td>1749</td>\n",
       "      <td>6</td>\n",
       "      <td>2006</td>\n",
       "      <td>5.849879</td>\n",
       "    </tr>\n",
       "    <tr>\n",
       "      <th>7133</th>\n",
       "      <td>RockNRolla</td>\n",
       "      <td>851</td>\n",
       "      <td>6</td>\n",
       "      <td>2008</td>\n",
       "      <td>5.744969</td>\n",
       "    </tr>\n",
       "    <tr>\n",
       "      <th>6261</th>\n",
       "      <td>Four Brothers</td>\n",
       "      <td>617</td>\n",
       "      <td>6</td>\n",
       "      <td>2005</td>\n",
       "      <td>5.688188</td>\n",
       "    </tr>\n",
       "    <tr>\n",
       "      <th>8026</th>\n",
       "      <td>Bullet to the Head</td>\n",
       "      <td>490</td>\n",
       "      <td>5</td>\n",
       "      <td>2013</td>\n",
       "      <td>5.115027</td>\n",
       "    </tr>\n",
       "    <tr>\n",
       "      <th>7997</th>\n",
       "      <td>Abduction</td>\n",
       "      <td>987</td>\n",
       "      <td>5</td>\n",
       "      <td>2011</td>\n",
       "      <td>5.074796</td>\n",
       "    </tr>\n",
       "    <tr>\n",
       "      <th>9162</th>\n",
       "      <td>London Has Fallen</td>\n",
       "      <td>1656</td>\n",
       "      <td>5</td>\n",
       "      <td>2016</td>\n",
       "      <td>5.050854</td>\n",
       "    </tr>\n",
       "  </tbody>\n",
       "</table>\n",
       "</div>"
      ],
      "text/plain": [
       "                                      title  vote_count  vote_average  year  \\\n",
       "4863                        Boyz n the Hood         377             7  1991   \n",
       "8408                       Fast & Furious 6        5282             6  2013   \n",
       "3481               The Fast and the Furious        3485             6  2001   \n",
       "7266                         Fast & Furious        2426             6  2009   \n",
       "6518  The Fast and the Furious: Tokyo Drift        1749             6  2006   \n",
       "7133                             RockNRolla         851             6  2008   \n",
       "6261                          Four Brothers         617             6  2005   \n",
       "8026                     Bullet to the Head         490             5  2013   \n",
       "7997                              Abduction         987             5  2011   \n",
       "9162                      London Has Fallen        1656             5  2016   \n",
       "\n",
       "            wr  \n",
       "4863  6.060771  \n",
       "8408  5.942667  \n",
       "3481  5.916378  \n",
       "7266  5.885414  \n",
       "6518  5.849879  \n",
       "7133  5.744969  \n",
       "6261  5.688188  \n",
       "8026  5.115027  \n",
       "7997  5.074796  \n",
       "9162  5.050854  "
      ]
     },
     "execution_count": 56,
     "metadata": {},
     "output_type": "execute_result"
    }
   ],
   "source": [
    "recommendations_content('2 Fast 2 Furious').head(10)"
   ]
  },
  {
   "cell_type": "code",
   "execution_count": null,
   "id": "186c018c",
   "metadata": {},
   "outputs": [],
   "source": []
  },
  {
   "cell_type": "code",
   "execution_count": null,
   "id": "cec87e0c",
   "metadata": {},
   "outputs": [],
   "source": []
  },
  {
   "cell_type": "markdown",
   "id": "5aed1bcd",
   "metadata": {},
   "source": [
    "## collaborative"
   ]
  },
  {
   "cell_type": "code",
   "execution_count": 57,
   "id": "6afc3b3a",
   "metadata": {},
   "outputs": [],
   "source": [
    "reader = Reader()"
   ]
  },
  {
   "cell_type": "code",
   "execution_count": 58,
   "id": "9dbbfb58",
   "metadata": {},
   "outputs": [
    {
     "data": {
      "text/html": [
       "<div>\n",
       "<style scoped>\n",
       "    .dataframe tbody tr th:only-of-type {\n",
       "        vertical-align: middle;\n",
       "    }\n",
       "\n",
       "    .dataframe tbody tr th {\n",
       "        vertical-align: top;\n",
       "    }\n",
       "\n",
       "    .dataframe thead th {\n",
       "        text-align: right;\n",
       "    }\n",
       "</style>\n",
       "<table border=\"1\" class=\"dataframe\">\n",
       "  <thead>\n",
       "    <tr style=\"text-align: right;\">\n",
       "      <th></th>\n",
       "      <th>userId</th>\n",
       "      <th>movieId</th>\n",
       "      <th>rating</th>\n",
       "      <th>timestamp</th>\n",
       "    </tr>\n",
       "  </thead>\n",
       "  <tbody>\n",
       "    <tr>\n",
       "      <th>0</th>\n",
       "      <td>1</td>\n",
       "      <td>31</td>\n",
       "      <td>2.5</td>\n",
       "      <td>1260759144</td>\n",
       "    </tr>\n",
       "    <tr>\n",
       "      <th>1</th>\n",
       "      <td>1</td>\n",
       "      <td>1029</td>\n",
       "      <td>3.0</td>\n",
       "      <td>1260759179</td>\n",
       "    </tr>\n",
       "    <tr>\n",
       "      <th>2</th>\n",
       "      <td>1</td>\n",
       "      <td>1061</td>\n",
       "      <td>3.0</td>\n",
       "      <td>1260759182</td>\n",
       "    </tr>\n",
       "    <tr>\n",
       "      <th>3</th>\n",
       "      <td>1</td>\n",
       "      <td>1129</td>\n",
       "      <td>2.0</td>\n",
       "      <td>1260759185</td>\n",
       "    </tr>\n",
       "    <tr>\n",
       "      <th>4</th>\n",
       "      <td>1</td>\n",
       "      <td>1172</td>\n",
       "      <td>4.0</td>\n",
       "      <td>1260759205</td>\n",
       "    </tr>\n",
       "  </tbody>\n",
       "</table>\n",
       "</div>"
      ],
      "text/plain": [
       "   userId  movieId  rating   timestamp\n",
       "0       1       31     2.5  1260759144\n",
       "1       1     1029     3.0  1260759179\n",
       "2       1     1061     3.0  1260759182\n",
       "3       1     1129     2.0  1260759185\n",
       "4       1     1172     4.0  1260759205"
      ]
     },
     "execution_count": 58,
     "metadata": {},
     "output_type": "execute_result"
    }
   ],
   "source": [
    "ratings = pd.read_csv('data/ratings_small.csv')\n",
    "ratings.head()"
   ]
  },
  {
   "cell_type": "code",
   "execution_count": 59,
   "id": "675da0bd",
   "metadata": {},
   "outputs": [
    {
     "name": "stdout",
     "output_type": "stream",
     "text": [
      "Evaluating RMSE, MAE of algorithm SVD on 5 split(s).\n",
      "\n",
      "                  Fold 1  Fold 2  Fold 3  Fold 4  Fold 5  Mean    Std     \n",
      "RMSE (testset)    0.8987  0.8867  0.8966  0.9008  0.9007  0.8967  0.0052  \n",
      "MAE (testset)     0.6924  0.6835  0.6898  0.6928  0.6925  0.6902  0.0035  \n",
      "Fit time          2.39    2.36    2.35    2.32    2.29    2.34    0.03    \n",
      "Test time         0.06    0.06    0.12    0.05    0.05    0.07    0.03    \n"
     ]
    },
    {
     "data": {
      "text/plain": [
       "{'test_rmse': array([0.89874712, 0.88667559, 0.89663848, 0.90084201, 0.90066257]),\n",
       " 'test_mae': array([0.69237615, 0.68352427, 0.68975188, 0.6928312 , 0.69251147]),\n",
       " 'fit_time': (2.387939214706421,\n",
       "  2.362353801727295,\n",
       "  2.349463939666748,\n",
       "  2.321215867996216,\n",
       "  2.289198875427246),\n",
       " 'test_time': (0.05748391151428223,\n",
       "  0.05520009994506836,\n",
       "  0.11863017082214355,\n",
       "  0.052247047424316406,\n",
       "  0.052336931228637695)}"
      ]
     },
     "execution_count": 59,
     "metadata": {},
     "output_type": "execute_result"
    }
   ],
   "source": [
    "data = Dataset.load_from_df(ratings[['userId', 'movieId', 'rating']], reader)\n",
    "# data.split(n_folds=5)\n",
    "# Run 5-fold cross-validation and print results\n",
    "# We'll use the famous SVD algorithm.\n",
    "algo = SVD()\n",
    "cross_validate(algo, data, measures=['RMSE', 'MAE'], cv=5, verbose=True)\n",
    "# cross_validate('kfold', data, measures=['RMSE'], cv=5)"
   ]
  },
  {
   "cell_type": "code",
   "execution_count": 60,
   "id": "6b236fd7",
   "metadata": {},
   "outputs": [
    {
     "data": {
      "text/plain": [
       "<surprise.prediction_algorithms.matrix_factorization.SVD at 0x2a45148b0>"
      ]
     },
     "execution_count": 60,
     "metadata": {},
     "output_type": "execute_result"
    }
   ],
   "source": [
    "trainset = data.build_full_trainset()\n",
    "algo.fit(trainset)"
   ]
  },
  {
   "cell_type": "code",
   "execution_count": 61,
   "id": "12cbb5b6",
   "metadata": {},
   "outputs": [
    {
     "data": {
      "text/html": [
       "<div>\n",
       "<style scoped>\n",
       "    .dataframe tbody tr th:only-of-type {\n",
       "        vertical-align: middle;\n",
       "    }\n",
       "\n",
       "    .dataframe tbody tr th {\n",
       "        vertical-align: top;\n",
       "    }\n",
       "\n",
       "    .dataframe thead th {\n",
       "        text-align: right;\n",
       "    }\n",
       "</style>\n",
       "<table border=\"1\" class=\"dataframe\">\n",
       "  <thead>\n",
       "    <tr style=\"text-align: right;\">\n",
       "      <th></th>\n",
       "      <th>userId</th>\n",
       "      <th>movieId</th>\n",
       "      <th>rating</th>\n",
       "      <th>timestamp</th>\n",
       "    </tr>\n",
       "  </thead>\n",
       "  <tbody>\n",
       "    <tr>\n",
       "      <th>0</th>\n",
       "      <td>1</td>\n",
       "      <td>31</td>\n",
       "      <td>2.5</td>\n",
       "      <td>1260759144</td>\n",
       "    </tr>\n",
       "    <tr>\n",
       "      <th>1</th>\n",
       "      <td>1</td>\n",
       "      <td>1029</td>\n",
       "      <td>3.0</td>\n",
       "      <td>1260759179</td>\n",
       "    </tr>\n",
       "    <tr>\n",
       "      <th>2</th>\n",
       "      <td>1</td>\n",
       "      <td>1061</td>\n",
       "      <td>3.0</td>\n",
       "      <td>1260759182</td>\n",
       "    </tr>\n",
       "    <tr>\n",
       "      <th>3</th>\n",
       "      <td>1</td>\n",
       "      <td>1129</td>\n",
       "      <td>2.0</td>\n",
       "      <td>1260759185</td>\n",
       "    </tr>\n",
       "    <tr>\n",
       "      <th>4</th>\n",
       "      <td>1</td>\n",
       "      <td>1172</td>\n",
       "      <td>4.0</td>\n",
       "      <td>1260759205</td>\n",
       "    </tr>\n",
       "    <tr>\n",
       "      <th>5</th>\n",
       "      <td>1</td>\n",
       "      <td>1263</td>\n",
       "      <td>2.0</td>\n",
       "      <td>1260759151</td>\n",
       "    </tr>\n",
       "    <tr>\n",
       "      <th>6</th>\n",
       "      <td>1</td>\n",
       "      <td>1287</td>\n",
       "      <td>2.0</td>\n",
       "      <td>1260759187</td>\n",
       "    </tr>\n",
       "    <tr>\n",
       "      <th>7</th>\n",
       "      <td>1</td>\n",
       "      <td>1293</td>\n",
       "      <td>2.0</td>\n",
       "      <td>1260759148</td>\n",
       "    </tr>\n",
       "    <tr>\n",
       "      <th>8</th>\n",
       "      <td>1</td>\n",
       "      <td>1339</td>\n",
       "      <td>3.5</td>\n",
       "      <td>1260759125</td>\n",
       "    </tr>\n",
       "    <tr>\n",
       "      <th>9</th>\n",
       "      <td>1</td>\n",
       "      <td>1343</td>\n",
       "      <td>2.0</td>\n",
       "      <td>1260759131</td>\n",
       "    </tr>\n",
       "    <tr>\n",
       "      <th>10</th>\n",
       "      <td>1</td>\n",
       "      <td>1371</td>\n",
       "      <td>2.5</td>\n",
       "      <td>1260759135</td>\n",
       "    </tr>\n",
       "    <tr>\n",
       "      <th>11</th>\n",
       "      <td>1</td>\n",
       "      <td>1405</td>\n",
       "      <td>1.0</td>\n",
       "      <td>1260759203</td>\n",
       "    </tr>\n",
       "    <tr>\n",
       "      <th>12</th>\n",
       "      <td>1</td>\n",
       "      <td>1953</td>\n",
       "      <td>4.0</td>\n",
       "      <td>1260759191</td>\n",
       "    </tr>\n",
       "    <tr>\n",
       "      <th>13</th>\n",
       "      <td>1</td>\n",
       "      <td>2105</td>\n",
       "      <td>4.0</td>\n",
       "      <td>1260759139</td>\n",
       "    </tr>\n",
       "    <tr>\n",
       "      <th>14</th>\n",
       "      <td>1</td>\n",
       "      <td>2150</td>\n",
       "      <td>3.0</td>\n",
       "      <td>1260759194</td>\n",
       "    </tr>\n",
       "    <tr>\n",
       "      <th>15</th>\n",
       "      <td>1</td>\n",
       "      <td>2193</td>\n",
       "      <td>2.0</td>\n",
       "      <td>1260759198</td>\n",
       "    </tr>\n",
       "    <tr>\n",
       "      <th>16</th>\n",
       "      <td>1</td>\n",
       "      <td>2294</td>\n",
       "      <td>2.0</td>\n",
       "      <td>1260759108</td>\n",
       "    </tr>\n",
       "    <tr>\n",
       "      <th>17</th>\n",
       "      <td>1</td>\n",
       "      <td>2455</td>\n",
       "      <td>2.5</td>\n",
       "      <td>1260759113</td>\n",
       "    </tr>\n",
       "    <tr>\n",
       "      <th>18</th>\n",
       "      <td>1</td>\n",
       "      <td>2968</td>\n",
       "      <td>1.0</td>\n",
       "      <td>1260759200</td>\n",
       "    </tr>\n",
       "    <tr>\n",
       "      <th>19</th>\n",
       "      <td>1</td>\n",
       "      <td>3671</td>\n",
       "      <td>3.0</td>\n",
       "      <td>1260759117</td>\n",
       "    </tr>\n",
       "  </tbody>\n",
       "</table>\n",
       "</div>"
      ],
      "text/plain": [
       "    userId  movieId  rating   timestamp\n",
       "0        1       31     2.5  1260759144\n",
       "1        1     1029     3.0  1260759179\n",
       "2        1     1061     3.0  1260759182\n",
       "3        1     1129     2.0  1260759185\n",
       "4        1     1172     4.0  1260759205\n",
       "5        1     1263     2.0  1260759151\n",
       "6        1     1287     2.0  1260759187\n",
       "7        1     1293     2.0  1260759148\n",
       "8        1     1339     3.5  1260759125\n",
       "9        1     1343     2.0  1260759131\n",
       "10       1     1371     2.5  1260759135\n",
       "11       1     1405     1.0  1260759203\n",
       "12       1     1953     4.0  1260759191\n",
       "13       1     2105     4.0  1260759139\n",
       "14       1     2150     3.0  1260759194\n",
       "15       1     2193     2.0  1260759198\n",
       "16       1     2294     2.0  1260759108\n",
       "17       1     2455     2.5  1260759113\n",
       "18       1     2968     1.0  1260759200\n",
       "19       1     3671     3.0  1260759117"
      ]
     },
     "execution_count": 61,
     "metadata": {},
     "output_type": "execute_result"
    }
   ],
   "source": [
    "ratings[ratings['userId'] == 1]"
   ]
  },
  {
   "cell_type": "code",
   "execution_count": 62,
   "id": "1291e797",
   "metadata": {},
   "outputs": [
    {
     "data": {
      "text/plain": [
       "Prediction(uid=1, iid=302, r_ui=3, est=2.531436433774873, details={'was_impossible': False})"
      ]
     },
     "execution_count": 62,
     "metadata": {},
     "output_type": "execute_result"
    }
   ],
   "source": [
    "algo.predict(1, 302, 3)"
   ]
  },
  {
   "cell_type": "code",
   "execution_count": null,
   "id": "cbdf54d7",
   "metadata": {},
   "outputs": [],
   "source": []
  },
  {
   "cell_type": "code",
   "execution_count": null,
   "id": "1a3f8b61",
   "metadata": {},
   "outputs": [],
   "source": []
  },
  {
   "cell_type": "markdown",
   "id": "902575f5",
   "metadata": {},
   "source": [
    "## Hybrid Recommender"
   ]
  },
  {
   "cell_type": "code",
   "execution_count": 63,
   "id": "916d8acb",
   "metadata": {},
   "outputs": [],
   "source": [
    "def convert_int(x):\n",
    "    try:\n",
    "        return int(x)\n",
    "    except:\n",
    "        return np.nan"
   ]
  },
  {
   "cell_type": "code",
   "execution_count": 64,
   "id": "42d92bf7",
   "metadata": {},
   "outputs": [],
   "source": [
    "id_map = pd.read_csv('data/links_small.csv')[['movieId', 'tmdbId']]\n",
    "id_map['tmdbId'] = id_map['tmdbId'].apply(convert_int)\n",
    "id_map.columns = ['movieId', 'id']\n",
    "id_map = id_map.merge(smovie_df[['title', 'id']], on='id').set_index('title')\n",
    "#id_map = id_map.set_index('tmdbId')"
   ]
  },
  {
   "cell_type": "code",
   "execution_count": 65,
   "id": "d24c8527",
   "metadata": {},
   "outputs": [],
   "source": [
    "indices_map = id_map.set_index('id')"
   ]
  },
  {
   "cell_type": "code",
   "execution_count": 66,
   "id": "2df97247",
   "metadata": {},
   "outputs": [],
   "source": [
    "def recommendations_hybrid(userId, title):\n",
    "    idx = indices[title]\n",
    "    tmdbId = id_map.loc[title]['id']\n",
    "    #print(idx)\n",
    "    movie_id = id_map.loc[title]['movieId']\n",
    "    \n",
    "    sim_scores = list(enumerate(cosine_sim[int(idx)]))\n",
    "    sim_scores = sorted(sim_scores, key=lambda x: x[1], reverse=True)\n",
    "    sim_scores = sim_scores[1:26]\n",
    "    movie_indices = [i[0] for i in sim_scores]\n",
    "    \n",
    "    movies = smovie_df.iloc[movie_indices][['title', 'vote_count', 'vote_average', 'year', 'id']]\n",
    "    movies['est'] = movies['id'].apply(lambda x: algo.predict(userId, indices_map.loc[x]['movieId']).est)\n",
    "    movies = movies.sort_values('est', ascending=False)\n",
    "    return movies.head(10)"
   ]
  },
  {
   "cell_type": "code",
   "execution_count": 67,
   "id": "47bc4670",
   "metadata": {},
   "outputs": [
    {
     "data": {
      "text/html": [
       "<div>\n",
       "<style scoped>\n",
       "    .dataframe tbody tr th:only-of-type {\n",
       "        vertical-align: middle;\n",
       "    }\n",
       "\n",
       "    .dataframe tbody tr th {\n",
       "        vertical-align: top;\n",
       "    }\n",
       "\n",
       "    .dataframe thead th {\n",
       "        text-align: right;\n",
       "    }\n",
       "</style>\n",
       "<table border=\"1\" class=\"dataframe\">\n",
       "  <thead>\n",
       "    <tr style=\"text-align: right;\">\n",
       "      <th></th>\n",
       "      <th>title</th>\n",
       "      <th>vote_count</th>\n",
       "      <th>vote_average</th>\n",
       "      <th>year</th>\n",
       "      <th>id</th>\n",
       "      <th>est</th>\n",
       "    </tr>\n",
       "  </thead>\n",
       "  <tbody>\n",
       "    <tr>\n",
       "      <th>1041</th>\n",
       "      <td>Back to the Future</td>\n",
       "      <td>6239.0</td>\n",
       "      <td>8.0</td>\n",
       "      <td>1985</td>\n",
       "      <td>105</td>\n",
       "      <td>3.326153</td>\n",
       "    </tr>\n",
       "    <tr>\n",
       "      <th>3628</th>\n",
       "      <td>The Big Picture</td>\n",
       "      <td>24.0</td>\n",
       "      <td>5.9</td>\n",
       "      <td>1989</td>\n",
       "      <td>45225</td>\n",
       "      <td>2.986013</td>\n",
       "    </tr>\n",
       "    <tr>\n",
       "      <th>1274</th>\n",
       "      <td>Contact</td>\n",
       "      <td>1338.0</td>\n",
       "      <td>7.2</td>\n",
       "      <td>1997</td>\n",
       "      <td>686</td>\n",
       "      <td>2.886843</td>\n",
       "    </tr>\n",
       "    <tr>\n",
       "      <th>2414</th>\n",
       "      <td>Who Framed Roger Rabbit</td>\n",
       "      <td>1466.0</td>\n",
       "      <td>7.2</td>\n",
       "      <td>1988</td>\n",
       "      <td>856</td>\n",
       "      <td>2.839869</td>\n",
       "    </tr>\n",
       "    <tr>\n",
       "      <th>1933</th>\n",
       "      <td>Romancing the Stone</td>\n",
       "      <td>477.0</td>\n",
       "      <td>6.6</td>\n",
       "      <td>1984</td>\n",
       "      <td>9326</td>\n",
       "      <td>2.803594</td>\n",
       "    </tr>\n",
       "    <tr>\n",
       "      <th>9031</th>\n",
       "      <td>The Walk</td>\n",
       "      <td>1151.0</td>\n",
       "      <td>6.9</td>\n",
       "      <td>2015</td>\n",
       "      <td>285783</td>\n",
       "      <td>2.797665</td>\n",
       "    </tr>\n",
       "    <tr>\n",
       "      <th>8556</th>\n",
       "      <td>Geography Club</td>\n",
       "      <td>55.0</td>\n",
       "      <td>6.5</td>\n",
       "      <td>2013</td>\n",
       "      <td>197033</td>\n",
       "      <td>2.766784</td>\n",
       "    </tr>\n",
       "    <tr>\n",
       "      <th>6762</th>\n",
       "      <td>Sylvia Scarlett</td>\n",
       "      <td>12.0</td>\n",
       "      <td>5.0</td>\n",
       "      <td>1935</td>\n",
       "      <td>31866</td>\n",
       "      <td>2.736749</td>\n",
       "    </tr>\n",
       "    <tr>\n",
       "      <th>1590</th>\n",
       "      <td>Back to the Future Part II</td>\n",
       "      <td>3926.0</td>\n",
       "      <td>7.4</td>\n",
       "      <td>1989</td>\n",
       "      <td>165</td>\n",
       "      <td>2.731494</td>\n",
       "    </tr>\n",
       "    <tr>\n",
       "      <th>3052</th>\n",
       "      <td>What Lies Beneath</td>\n",
       "      <td>504.0</td>\n",
       "      <td>6.3</td>\n",
       "      <td>2000</td>\n",
       "      <td>2655</td>\n",
       "      <td>2.727072</td>\n",
       "    </tr>\n",
       "  </tbody>\n",
       "</table>\n",
       "</div>"
      ],
      "text/plain": [
       "                           title  vote_count  vote_average  year      id  \\\n",
       "1041          Back to the Future      6239.0           8.0  1985     105   \n",
       "3628             The Big Picture        24.0           5.9  1989   45225   \n",
       "1274                     Contact      1338.0           7.2  1997     686   \n",
       "2414     Who Framed Roger Rabbit      1466.0           7.2  1988     856   \n",
       "1933         Romancing the Stone       477.0           6.6  1984    9326   \n",
       "9031                    The Walk      1151.0           6.9  2015  285783   \n",
       "8556              Geography Club        55.0           6.5  2013  197033   \n",
       "6762             Sylvia Scarlett        12.0           5.0  1935   31866   \n",
       "1590  Back to the Future Part II      3926.0           7.4  1989     165   \n",
       "3052           What Lies Beneath       504.0           6.3  2000    2655   \n",
       "\n",
       "           est  \n",
       "1041  3.326153  \n",
       "3628  2.986013  \n",
       "1274  2.886843  \n",
       "2414  2.839869  \n",
       "1933  2.803594  \n",
       "9031  2.797665  \n",
       "8556  2.766784  \n",
       "6762  2.736749  \n",
       "1590  2.731494  \n",
       "3052  2.727072  "
      ]
     },
     "execution_count": 67,
     "metadata": {},
     "output_type": "execute_result"
    }
   ],
   "source": [
    "recommendations_hybrid(1, 'Forrest Gump')"
   ]
  },
  {
   "cell_type": "markdown",
   "id": "2bb81e7b",
   "metadata": {},
   "source": [
    "## Sentiment analysis"
   ]
  },
  {
   "cell_type": "code",
   "execution_count": 132,
   "id": "a3bcbdee",
   "metadata": {},
   "outputs": [
    {
     "name": "stdout",
     "output_type": "stream",
     "text": [
      "Init Plugin\n",
      "Init Graph Optimizer\n",
      "Init Kernel\n"
     ]
    }
   ],
   "source": [
    "import nltk\n",
    "from sklearn.feature_extraction.text import CountVectorizer\n",
    "from sklearn.feature_extraction.text import TfidfVectorizer\n",
    "from sklearn.preprocessing import LabelBinarizer\n",
    "from nltk.corpus import stopwords\n",
    "from nltk.stem.porter import PorterStemmer\n",
    "from wordcloud import WordCloud,STOPWORDS\n",
    "from nltk.stem import WordNetLemmatizer\n",
    "from nltk.tokenize import word_tokenize,sent_tokenize\n",
    "from bs4 import BeautifulSoup\n",
    "import spacy\n",
    "import re,string,unicodedata\n",
    "from nltk.tokenize.toktok import ToktokTokenizer\n",
    "from nltk.stem import LancasterStemmer,WordNetLemmatizer\n",
    "from sklearn.linear_model import LogisticRegression,SGDClassifier\n",
    "from sklearn.naive_bayes import MultinomialNB\n",
    "from sklearn.svm import SVC\n",
    "from textblob import TextBlob\n",
    "from textblob import Word\n",
    "from sklearn.metrics import classification_report,confusion_matrix,accuracy_score\n"
   ]
  },
  {
   "cell_type": "code",
   "execution_count": 69,
   "id": "ec9201c7",
   "metadata": {},
   "outputs": [
    {
     "name": "stdout",
     "output_type": "stream",
     "text": [
      "(50000, 2)\n"
     ]
    },
    {
     "data": {
      "text/html": [
       "<div>\n",
       "<style scoped>\n",
       "    .dataframe tbody tr th:only-of-type {\n",
       "        vertical-align: middle;\n",
       "    }\n",
       "\n",
       "    .dataframe tbody tr th {\n",
       "        vertical-align: top;\n",
       "    }\n",
       "\n",
       "    .dataframe thead th {\n",
       "        text-align: right;\n",
       "    }\n",
       "</style>\n",
       "<table border=\"1\" class=\"dataframe\">\n",
       "  <thead>\n",
       "    <tr style=\"text-align: right;\">\n",
       "      <th></th>\n",
       "      <th>review</th>\n",
       "      <th>sentiment</th>\n",
       "    </tr>\n",
       "  </thead>\n",
       "  <tbody>\n",
       "    <tr>\n",
       "      <th>0</th>\n",
       "      <td>One of the other reviewers has mentioned that ...</td>\n",
       "      <td>positive</td>\n",
       "    </tr>\n",
       "    <tr>\n",
       "      <th>1</th>\n",
       "      <td>A wonderful little production. &lt;br /&gt;&lt;br /&gt;The...</td>\n",
       "      <td>positive</td>\n",
       "    </tr>\n",
       "    <tr>\n",
       "      <th>2</th>\n",
       "      <td>I thought this was a wonderful way to spend ti...</td>\n",
       "      <td>positive</td>\n",
       "    </tr>\n",
       "    <tr>\n",
       "      <th>3</th>\n",
       "      <td>Basically there's a family where a little boy ...</td>\n",
       "      <td>negative</td>\n",
       "    </tr>\n",
       "    <tr>\n",
       "      <th>4</th>\n",
       "      <td>Petter Mattei's \"Love in the Time of Money\" is...</td>\n",
       "      <td>positive</td>\n",
       "    </tr>\n",
       "    <tr>\n",
       "      <th>5</th>\n",
       "      <td>Probably my all-time favorite movie, a story o...</td>\n",
       "      <td>positive</td>\n",
       "    </tr>\n",
       "    <tr>\n",
       "      <th>6</th>\n",
       "      <td>I sure would like to see a resurrection of a u...</td>\n",
       "      <td>positive</td>\n",
       "    </tr>\n",
       "    <tr>\n",
       "      <th>7</th>\n",
       "      <td>This show was an amazing, fresh &amp; innovative i...</td>\n",
       "      <td>negative</td>\n",
       "    </tr>\n",
       "    <tr>\n",
       "      <th>8</th>\n",
       "      <td>Encouraged by the positive comments about this...</td>\n",
       "      <td>negative</td>\n",
       "    </tr>\n",
       "    <tr>\n",
       "      <th>9</th>\n",
       "      <td>If you like original gut wrenching laughter yo...</td>\n",
       "      <td>positive</td>\n",
       "    </tr>\n",
       "  </tbody>\n",
       "</table>\n",
       "</div>"
      ],
      "text/plain": [
       "                                              review sentiment\n",
       "0  One of the other reviewers has mentioned that ...  positive\n",
       "1  A wonderful little production. <br /><br />The...  positive\n",
       "2  I thought this was a wonderful way to spend ti...  positive\n",
       "3  Basically there's a family where a little boy ...  negative\n",
       "4  Petter Mattei's \"Love in the Time of Money\" is...  positive\n",
       "5  Probably my all-time favorite movie, a story o...  positive\n",
       "6  I sure would like to see a resurrection of a u...  positive\n",
       "7  This show was an amazing, fresh & innovative i...  negative\n",
       "8  Encouraged by the positive comments about this...  negative\n",
       "9  If you like original gut wrenching laughter yo...  positive"
      ]
     },
     "execution_count": 69,
     "metadata": {},
     "output_type": "execute_result"
    }
   ],
   "source": [
    "#importing the training data\n",
    "imdb_data=pd.read_csv('data/IMDBDataset.csv')\n",
    "print(imdb_data.shape)\n",
    "imdb_data.head(10)"
   ]
  },
  {
   "cell_type": "code",
   "execution_count": 70,
   "id": "3708685a",
   "metadata": {},
   "outputs": [
    {
     "data": {
      "text/html": [
       "<div>\n",
       "<style scoped>\n",
       "    .dataframe tbody tr th:only-of-type {\n",
       "        vertical-align: middle;\n",
       "    }\n",
       "\n",
       "    .dataframe tbody tr th {\n",
       "        vertical-align: top;\n",
       "    }\n",
       "\n",
       "    .dataframe thead th {\n",
       "        text-align: right;\n",
       "    }\n",
       "</style>\n",
       "<table border=\"1\" class=\"dataframe\">\n",
       "  <thead>\n",
       "    <tr style=\"text-align: right;\">\n",
       "      <th></th>\n",
       "      <th>review</th>\n",
       "      <th>sentiment</th>\n",
       "    </tr>\n",
       "  </thead>\n",
       "  <tbody>\n",
       "    <tr>\n",
       "      <th>count</th>\n",
       "      <td>50000</td>\n",
       "      <td>50000</td>\n",
       "    </tr>\n",
       "    <tr>\n",
       "      <th>unique</th>\n",
       "      <td>49582</td>\n",
       "      <td>2</td>\n",
       "    </tr>\n",
       "    <tr>\n",
       "      <th>top</th>\n",
       "      <td>Loved today's show!!! It was a variety and not...</td>\n",
       "      <td>positive</td>\n",
       "    </tr>\n",
       "    <tr>\n",
       "      <th>freq</th>\n",
       "      <td>5</td>\n",
       "      <td>25000</td>\n",
       "    </tr>\n",
       "  </tbody>\n",
       "</table>\n",
       "</div>"
      ],
      "text/plain": [
       "                                                   review sentiment\n",
       "count                                               50000     50000\n",
       "unique                                              49582         2\n",
       "top     Loved today's show!!! It was a variety and not...  positive\n",
       "freq                                                    5     25000"
      ]
     },
     "execution_count": 70,
     "metadata": {},
     "output_type": "execute_result"
    }
   ],
   "source": [
    "#Summary of the dataset\n",
    "imdb_data.describe()"
   ]
  },
  {
   "cell_type": "code",
   "execution_count": 71,
   "id": "b77c22a1",
   "metadata": {},
   "outputs": [
    {
     "data": {
      "image/png": "[encoded data removed]",
      "text/plain": [
       "<Figure size 432x288 with 1 Axes>"
      ]
     },
     "metadata": {
      "needs_background": "light"
     },
     "output_type": "display_data"
    }
   ],
   "source": [
    " # visualize the target variable\n",
    "g = sns.countplot(imdb_data['sentiment'])\n",
    "g.set_xticklabels(['Negative','Positive'])\n",
    "plt.show()"
   ]
  },
  {
   "cell_type": "markdown",
   "id": "f9074905",
   "metadata": {},
   "source": [
    "##### Spliting the training dataset"
   ]
  },
  {
   "cell_type": "code",
   "execution_count": 72,
   "id": "7150691c",
   "metadata": {},
   "outputs": [
    {
     "name": "stdout",
     "output_type": "stream",
     "text": [
      "(40000,) (40000,)\n",
      "(10000,) (10000,)\n"
     ]
    }
   ],
   "source": [
    "#split the dataset  \n",
    "#train dataset\n",
    "train_reviews=imdb_data.review[:40000]\n",
    "train_sentiments=imdb_data.sentiment[:40000]\n",
    "#test dataset\n",
    "test_reviews=imdb_data.review[40000:]\n",
    "test_sentiments=imdb_data.sentiment[40000:]\n",
    "print(train_reviews.shape,train_sentiments.shape)\n",
    "print(test_reviews.shape,test_sentiments.shape)"
   ]
  },
  {
   "cell_type": "markdown",
   "id": "f8e8b887",
   "metadata": {},
   "source": [
    "### Text normalization"
   ]
  },
  {
   "cell_type": "code",
   "execution_count": 93,
   "id": "54eda348",
   "metadata": {},
   "outputs": [],
   "source": [
    "w_tokenizer = nltk.tokenize.WhitespaceTokenizer()\n",
    "lemmatizer = nltk.stem.WordNetLemmatizer()\n",
    "words = set(nltk.corpus.words.words())\n",
    "\n",
    "def lemmatize_text(text):\n",
    "    return [lemmatizer.lemmatize(w) for w in w_tokenizer.tokenize(text)]\n",
    "\n",
    "# clean the text dataframe\n",
    "def text_cleaning(text):\n",
    "    text = text.lower()\n",
    "        \n",
    "    text = re.sub(r'http.?:\\/\\/\\S+','',text) #remove links\n",
    "    text = emoji.demojize(text, delimiters=(\"\", \"\")) \n",
    "  # text = text.encode(\"ascii\", errors=\"ignore\").decode()\n",
    " \n",
    "    text=re.sub(r'@[A-Za-z0-9]+','',text) #removes mentions\n",
    "    text=re.sub(r'#','',text)#remove hashtag\n",
    "    text = re.sub(r'RT[\\s]','',text) #remove RT\n",
    "    text = re.sub(r'http?:\\/\\/\\S+','',text) #remove links\n",
    "    text = re.sub(r\"br\", \" \", text)\n",
    "    text = re.sub(r\"_\", \" \", text)\n",
    "    text = re.sub(r\"[,.\\\"\\'!@#$%^&*(){}?/;`~:<>+=-]\", \" \", text)\n",
    "    text=re.sub(r'\\'','',text)\n",
    "    text=re.sub(r'\\\"','',text)\n",
    "    text=re.sub(r'\\“','',text)\n",
    "    text=re.sub(r'\\”','',text)\n",
    "    tokens = word_tokenize(text)\n",
    "    table = str.maketrans('', '', string.punctuation)\n",
    "    stripped = [w.translate(table) for w in tokens]\n",
    "    words1 = [word for word in stripped if word.isalpha()]\n",
    "    stop_words = set(stopwords.words(\"english\"))\n",
    "    stop_words.discard(\"not\")\n",
    "\n",
    "    words1 = [w for w in words1 if not w in stop_words]\n",
    "    words1 = ' '.join(words1)\n",
    "  # print(words1)\n",
    "  # words1 = \" \".join(w for w in nltk.wordpunct_tokenize(words1) if w.lower() in words or not w.isalpha())\n",
    "  # words1 = [w for w in words1 if  w in words.words()]\n",
    "  # final = ' '.join(words1)\n",
    "    final=[lemmatizer.lemmatize(w) for w in w_tokenizer.tokenize(words1)]\n",
    "    final = ' '.join(final)\n",
    "    return final"
   ]
  },
  {
   "cell_type": "code",
   "execution_count": 94,
   "id": "2dee4ba5",
   "metadata": {},
   "outputs": [],
   "source": [
    "imdb_data['review'] =  imdb_data['review'].apply(text_cleaning)"
   ]
  },
  {
   "cell_type": "code",
   "execution_count": 95,
   "id": "3fa2bb67",
   "metadata": {},
   "outputs": [
    {
     "data": {
      "text/plain": [
       "'one reviewer mentioned watching oz episode hooked right exactly happened first thing struck oz utality unflinching scene violence set right word go trust not show faint hearted timid show pull punch regard drug sex violence hardcore classic use word called oz nickname given oswald maximum security state penitentary focus mainly emerald city experimental section prison cell glass front face inwards privacy not high agenda em city home many aryan muslim gangsta latino christian italian irish scuffle death stare dodgy dealing shady agreement never far away would say main appeal show due fact go show dare forget pretty picture painted mainstream audience forget charm forget romance oz mess around first episode ever saw struck nasty surreal say ready watched developed taste oz got accustomed high level graphic violence not violence injustice crooked guard sold nickel inmate kill order get away well mannered middle class inmate turned prison bitch due lack street skill prison experience watching oz may become comfortable uncomfortable viewing thats get touch darker side'"
      ]
     },
     "execution_count": 95,
     "metadata": {},
     "output_type": "execute_result"
    }
   ],
   "source": [
    "#normalized train reviews\n",
    "norm_train_reviews=imdb_data.review[:40000]\n",
    "norm_train_reviews[0]\n",
    "\n"
   ]
  },
  {
   "cell_type": "code",
   "execution_count": 96,
   "id": "fdb92fd6",
   "metadata": {},
   "outputs": [
    {
     "data": {
      "text/plain": [
       "'one reviewer mentioned watching oz episode hooked right exactly happened first thing struck oz utality unflinching scene violence set right word go trust not show faint hearted timid show pull punch regard drug sex violence hardcore classic use word called oz nickname given oswald maximum security state penitentary focus mainly emerald city experimental section prison cell glass front face inwards privacy not high agenda em city home many aryan muslim gangsta latino christian italian irish scuffle death stare dodgy dealing shady agreement never far away would say main appeal show due fact go show dare forget pretty picture painted mainstream audience forget charm forget romance oz mess around first episode ever saw struck nasty surreal say ready watched developed taste oz got accustomed high level graphic violence not violence injustice crooked guard sold nickel inmate kill order get away well mannered middle class inmate turned prison bitch due lack street skill prison experience watching oz may become comfortable uncomfortable viewing thats get touch darker side'"
      ]
     },
     "execution_count": 96,
     "metadata": {},
     "output_type": "execute_result"
    }
   ],
   "source": [
    "#normalized train reviews\n",
    "norm_train_reviews=imdb_data.review[:40000]\n",
    "norm_train_reviews[0]\n"
   ]
  },
  {
   "cell_type": "code",
   "execution_count": 97,
   "id": "27a54870",
   "metadata": {},
   "outputs": [
    {
     "data": {
      "text/plain": [
       "'read review watching piece cinematic garbage took least page find somebody else think appallingly unfunny montage acme humour indeed era least funny set sketch comedy ever seen till come along half skit already done infinitely better act monty python woody allen say nice piece animation last second highlight film would still not get close summing mindless drivel ridden waste minute seminal comedy world seminal really mean semen scatological humour world scat actually feces precursor joke mean handbook not comedy tit bum odd beaver nice pubescent boy least one hand free found playboy exists give eak early way sketch comedy going back least ten year prior way could even forgive film even made gunpoint retro hardly sketch clown subtly perverting child may cutting edge circle could actually funny come really quite sad kept going throughout entire minute sheer belief may saved genuinely funny skit end gave film lower score recommend insomniac coma patient perhaps people suffering lockjaw jaw would finally drop open disbelief'"
      ]
     },
     "execution_count": 97,
     "metadata": {},
     "output_type": "execute_result"
    }
   ],
   "source": [
    "#Normalized test reviews\n",
    "norm_test_reviews=imdb_data.review[40000:]\n",
    "norm_test_reviews[45005]"
   ]
  },
  {
   "cell_type": "code",
   "execution_count": 98,
   "id": "39cd132c",
   "metadata": {
    "scrolled": true
   },
   "outputs": [
    {
     "name": "stdout",
     "output_type": "stream",
     "text": [
      "BOW_cv_train: (40000, 6088764)\n",
      "BOW_cv_test: (10000, 6088764)\n"
     ]
    }
   ],
   "source": [
    "#Count vectorizer for bag of words\n",
    "cv=CountVectorizer(min_df=0,max_df=1,binary=False,ngram_range=(1,3))\n",
    "#transformed train reviews\n",
    "cv_train_reviews=cv.fit_transform(norm_train_reviews)\n",
    "#transformed test reviews\n",
    "cv_test_reviews=cv.transform(norm_test_reviews)\n",
    "\n",
    "print('BOW_cv_train:',cv_train_reviews.shape)\n",
    "print('BOW_cv_test:',cv_test_reviews.shape)\n",
    "#vocab=cv.get_feature_names()-toget feature names"
   ]
  },
  {
   "cell_type": "code",
   "execution_count": 99,
   "id": "d031e50b",
   "metadata": {},
   "outputs": [],
   "source": [
    "pickle.dump(cv, open('countVector.pkl', 'wb'))"
   ]
  },
  {
   "cell_type": "code",
   "execution_count": 100,
   "id": "f99783ef",
   "metadata": {},
   "outputs": [
    {
     "data": {
      "text/plain": [
       "<10000x6088764 sparse matrix of type '<class 'numpy.int64'>'\n",
       "\twith 195688 stored elements in Compressed Sparse Row format>"
      ]
     },
     "execution_count": 100,
     "metadata": {},
     "output_type": "execute_result"
    }
   ],
   "source": [
    "cv_test_reviews"
   ]
  },
  {
   "cell_type": "code",
   "execution_count": 101,
   "id": "f43b0ac9",
   "metadata": {},
   "outputs": [
    {
     "name": "stdout",
     "output_type": "stream",
     "text": [
      "Tfidf_train: (40000, 6088764)\n",
      "Tfidf_test: (10000, 6088764)\n"
     ]
    }
   ],
   "source": [
    "#Tfidf vectorizer\n",
    "tv=TfidfVectorizer(min_df=0,max_df=1,use_idf=True,ngram_range=(1,3))\n",
    "#transformed train reviews\n",
    "tv_train_reviews=tv.fit_transform(norm_train_reviews)\n",
    "#transformed test reviews\n",
    "tv_test_reviews=tv.transform(norm_test_reviews)\n",
    "print('Tfidf_train:',tv_train_reviews.shape)\n",
    "print('Tfidf_test:',tv_test_reviews.shape)"
   ]
  },
  {
   "cell_type": "code",
   "execution_count": 102,
   "id": "9852108d",
   "metadata": {},
   "outputs": [
    {
     "name": "stdout",
     "output_type": "stream",
     "text": [
      "(50000, 1)\n"
     ]
    }
   ],
   "source": [
    "#labeling the sentient data\n",
    "lb=LabelBinarizer()\n",
    "#transformed sentiment data\n",
    "sentiment_data=lb.fit_transform(imdb_data['sentiment'])\n",
    "print(sentiment_data.shape)"
   ]
  },
  {
   "cell_type": "code",
   "execution_count": 103,
   "id": "a6647aad",
   "metadata": {},
   "outputs": [
    {
     "name": "stdout",
     "output_type": "stream",
     "text": [
      "[[1]\n",
      " [1]\n",
      " [1]\n",
      " ...\n",
      " [1]\n",
      " [0]\n",
      " [0]]\n",
      "[[0]\n",
      " [0]\n",
      " [0]\n",
      " ...\n",
      " [0]\n",
      " [0]\n",
      " [0]]\n"
     ]
    }
   ],
   "source": [
    " #Spliting the sentiment data\n",
    "train_sentiments=sentiment_data[:40000]\n",
    "test_sentiments=sentiment_data[40000:]\n",
    "print(train_sentiments)\n",
    "print(test_sentiments)"
   ]
  },
  {
   "cell_type": "code",
   "execution_count": 184,
   "id": "a4fc5ff5",
   "metadata": {},
   "outputs": [
    {
     "data": {
      "text/plain": [
       "MultinomialNB()"
      ]
     },
     "execution_count": 184,
     "metadata": {},
     "output_type": "execute_result"
    }
   ],
   "source": [
    "from sklearn.feature_extraction.text import TfidfVectorizer\n",
    "from sklearn.model_selection import train_test_split\n",
    "from sklearn import naive_bayes\n",
    "from sklearn.metrics import roc_auc_score,accuracy_score\n",
    "clf = naive_bayes.MultinomialNB()\n",
    "clf.fit(tv_train_reviews,train_sentiments)"
   ]
  },
  {
   "cell_type": "code",
   "execution_count": 185,
   "id": "e508931b",
   "metadata": {},
   "outputs": [
    {
     "data": {
      "text/plain": [
       "74.26"
      ]
     },
     "execution_count": 185,
     "metadata": {},
     "output_type": "execute_result"
    }
   ],
   "source": [
    "accuracy_score(test_sentiments,clf.predict(tv_test_reviews))*100"
   ]
  },
  {
   "cell_type": "code",
   "execution_count": 104,
   "id": "ff40c817",
   "metadata": {},
   "outputs": [
    {
     "name": "stdout",
     "output_type": "stream",
     "text": [
      "LogisticRegression(C=1, max_iter=500, random_state=42)\n",
      "LogisticRegression(C=1, max_iter=500, random_state=42)\n"
     ]
    }
   ],
   "source": [
    "#training the model\n",
    "lr=LogisticRegression(penalty='l2',max_iter=500,C=1,random_state=42)\n",
    "#Fitting the model for Bag of words\n",
    "lr_bow=lr.fit(cv_train_reviews,train_sentiments)\n",
    "print(lr_bow)\n",
    "#Fitting the model for tfidf features\n",
    "lr_tfidf=lr.fit(tv_train_reviews,train_sentiments)\n",
    "print(lr_tfidf)"
   ]
  },
  {
   "cell_type": "code",
   "execution_count": 105,
   "id": "1281a3bd",
   "metadata": {},
   "outputs": [
    {
     "name": "stdout",
     "output_type": "stream",
     "text": [
      "[0 0 0 ... 0 0 0]\n",
      "[0 0 0 ... 0 0 0]\n"
     ]
    }
   ],
   "source": [
    "#Predicting the model for bag of words\n",
    "lr_bow_predict=lr.predict(cv_test_reviews)\n",
    "print(lr_bow_predict)\n",
    "##Predicting the model for tfidf features\n",
    "lr_tfidf_predict=lr.predict(tv_test_reviews)\n",
    "print(lr_tfidf_predict)"
   ]
  },
  {
   "cell_type": "code",
   "execution_count": null,
   "id": "1ffd533e",
   "metadata": {},
   "outputs": [],
   "source": []
  },
  {
   "cell_type": "code",
   "execution_count": 106,
   "id": "95fe5d0b",
   "metadata": {},
   "outputs": [
    {
     "name": "stdout",
     "output_type": "stream",
     "text": [
      "lr_bow_score : 0.7421\n",
      "lr_tfidf_score : 0.7413\n"
     ]
    }
   ],
   "source": [
    "#Accuracy score for bag of words\n",
    "lr_bow_score=accuracy_score(test_sentiments,lr_bow_predict)\n",
    "print(\"lr_bow_score :\",lr_bow_score)\n",
    "#Accuracy score for tfidf features\n",
    "lr_tfidf_score=accuracy_score(test_sentiments,lr_tfidf_predict)\n",
    "print(\"lr_tfidf_score :\",lr_tfidf_score)"
   ]
  },
  {
   "cell_type": "code",
   "execution_count": 107,
   "id": "4217ef12",
   "metadata": {},
   "outputs": [
    {
     "name": "stdout",
     "output_type": "stream",
     "text": [
      "              precision    recall  f1-score   support\n",
      "\n",
      "    Positive       0.74      0.74      0.74      4993\n",
      "    Negative       0.74      0.74      0.74      5007\n",
      "\n",
      "    accuracy                           0.74     10000\n",
      "   macro avg       0.74      0.74      0.74     10000\n",
      "weighted avg       0.74      0.74      0.74     10000\n",
      "\n",
      "              precision    recall  f1-score   support\n",
      "\n",
      "    Positive       0.73      0.76      0.75      4993\n",
      "    Negative       0.75      0.72      0.74      5007\n",
      "\n",
      "    accuracy                           0.74     10000\n",
      "   macro avg       0.74      0.74      0.74     10000\n",
      "weighted avg       0.74      0.74      0.74     10000\n",
      "\n"
     ]
    }
   ],
   "source": [
    "#Classification report for bag of words \n",
    "lr_bow_report=classification_report(test_sentiments,lr_bow_predict,target_names=['Positive','Negative'])\n",
    "print(lr_bow_report)\n",
    "\n",
    "#Classification report for tfidf features\n",
    "lr_tfidf_report=classification_report(test_sentiments,lr_tfidf_predict,target_names=['Positive','Negative'])\n",
    "print(lr_tfidf_report)"
   ]
  },
  {
   "cell_type": "code",
   "execution_count": 90,
   "id": "8d4c4a51",
   "metadata": {},
   "outputs": [],
   "source": [
    " filename = 'Sentiment_model.pkl'\n",
    "pickle.dump(lr, open(filename, 'wb'))"
   ]
  },
  {
   "cell_type": "code",
   "execution_count": null,
   "id": "cb894e81",
   "metadata": {},
   "outputs": [],
   "source": []
  }
 ],
 "metadata": {
  "kernelspec": {
   "display_name": "Python 3 (ipykernel)",
   "language": "python",
   "name": "python3"
  },
  "language_info": {
   "codemirror_mode": {
    "name": "ipython",
    "version": 3
   },
   "file_extension": ".py",
   "mimetype": "text/x-python",
   "name": "python",
   "nbconvert_exporter": "python",
   "pygments_lexer": "ipython3",
   "version": "3.8.10"
  }
 },
 "nbformat": 4,
 "nbformat_minor": 5
}
