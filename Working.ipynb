{
 "cells": [
  {
   "cell_type": "code",
   "execution_count": 71,
   "id": "7fcb78ad",
   "metadata": {},
   "outputs": [],
   "source": [
    "import pandas as pd\n",
    "import numpy as np\n",
    "import pandas as pd\n",
    "from flask import Flask, render_template, request\n",
    "from sklearn.feature_extraction.text import TfidfVectorizer, CountVectorizer\n",
    "from sklearn.metrics.pairwise import linear_kernel, cosine_similarity\n",
    "import json\n",
    "import bs4 as bs\n",
    "import urllib.request\n",
    "import pickle\n",
    "import requests\n",
    "import Levenshtein\n",
    "\n"
   ]
  },
  {
   "cell_type": "code",
   "execution_count": 72,
   "id": "96446d33",
   "metadata": {},
   "outputs": [],
   "source": [
    "def similarity_tags():\n",
    "    movie_df_ex = pd.read_csv('tags_recom.csv')\n",
    "    movie_df_ex=movie_df_ex.drop(['level_0', 'index'], axis=1)\n",
    "    movie_df_ex['title']=movie_df_ex['title'].str.lower()\n",
    "    tf = TfidfVectorizer(analyzer='word',ngram_range=(1, 2),min_df=0, stop_words='english')\n",
    "    c  = CountVectorizer()\n",
    "    tfidf_mtx = c.fit_transform(movie_df_ex['description'].astype('U').values)\n",
    "    cosine_sim = cosine_similarity(tfidf_mtx, tfidf_mtx)\n",
    "    movie_df_ex = movie_df_ex.reset_index()\n",
    "    titles = movie_df_ex['title']\n",
    "    indices = pd.Series(movie_df_ex.index, index=movie_df_ex['title'])\n",
    "    return movie_df_ex,indices,cosine_sim,titles\n",
    "    \n",
    "def recommendations_tags(title):    \n",
    "#     m = title.lower()\n",
    "    movie_df_ex,indices,cosine_sim,titles = similarity_tags()\n",
    "#     print(movie_df_ex['title'].lower())\n",
    "    if title not in movie_df_ex['title'].str.lower().unique():\n",
    "        return('Sorry! The movie you requested is not in our database. Please check the spelling or try with some other movies')\n",
    "    else:\n",
    "        \n",
    "        idx = indices[title]\n",
    "        sim_scores = list(enumerate(cosine_sim[idx]))\n",
    "        sim_scores = sorted(sim_scores, key=lambda x: x[1], reverse=True)\n",
    "        sim_scores = sim_scores[1:11]\n",
    "        movie_indices = [i[0] for i in sim_scores]\n",
    "        i = titles.iloc[movie_indices]\n",
    "#         print(titles.iloc[movie_indices])\n",
    "        l = []\n",
    "        for i in titles.iloc[movie_indices]:\n",
    "            l.append(i)\n",
    "    return l"
   ]
  },
  {
   "cell_type": "code",
   "execution_count": 73,
   "id": "c8606d0b",
   "metadata": {},
   "outputs": [
    {
     "data": {
      "text/plain": [
       "['raising helen',\n",
       " 'hands in the air',\n",
       " 'up',\n",
       " 'abduction',\n",
       " 'precious',\n",
       " \"the lion king 2: simba's pride\",\n",
       " 'y tu mamá también',\n",
       " 'all the pretty horses',\n",
       " 'unstrung heroes',\n",
       " 'along came polly']"
      ]
     },
     "execution_count": 73,
     "metadata": {},
     "output_type": "execute_result"
    }
   ],
   "source": [
    "recommendations_tags('the lion king')"
   ]
  },
  {
   "cell_type": "code",
   "execution_count": 74,
   "id": "865fbfb4",
   "metadata": {},
   "outputs": [],
   "source": [
    "def similarity_metadata():\n",
    "    smovie_df = pd.read_csv('content_recom.csv')\n",
    "#     smovie_df=smovie_df.drop(['level_0', 'index'], axis=1)\n",
    "    smovie_df['title']=smovie_df['title'].str.lower()\n",
    "    count = CountVectorizer(analyzer='word',ngram_range=(1, 2),min_df=0, stop_words='english')\n",
    "    count_matrix = count.fit_transform(smovie_df['soup'])\n",
    "    cosine_sim = cosine_similarity(count_matrix, count_matrix)\n",
    "    smovie_df = smovie_df.reset_index()\n",
    "    titles = smovie_df['title']\n",
    "    indices = pd.Series(smovie_df.index, index=smovie_df['title'])\n",
    "    return smovie_df,indices,cosine_sim,titles"
   ]
  },
  {
   "cell_type": "code",
   "execution_count": 75,
   "id": "1359ea72",
   "metadata": {},
   "outputs": [],
   "source": [
    "def weighted_rating(x):\n",
    "    v = x['vote_count']\n",
    "    R = x['vote_average']\n",
    "    return (v/(v+434.0) * R) + (434.0/(434.0+v) * 5.244896612406511)"
   ]
  },
  {
   "cell_type": "code",
   "execution_count": 76,
   "id": "0c21e335",
   "metadata": {},
   "outputs": [],
   "source": [
    "def recommendations_content(title):    \n",
    "    m = title.lower()\n",
    "    smovie_df,indices,cosine_sim,titles = similarity_metadata()\n",
    "    if title not in smovie_df['title'].str.lower().unique():\n",
    "        return('Sorry! The movie you requested is not in our database. Please check the spelling or try with some other movies')\n",
    "    else:\n",
    "        \n",
    "        idx = indices[title]\n",
    "        sim_scores = list(enumerate(cosine_sim[idx]))\n",
    "        sim_scores = sorted(sim_scores, key=lambda x: x[1], reverse=True)\n",
    "        sim_scores = sim_scores[1:26]\n",
    "        movie_indices = [i[0] for i in sim_scores]\n",
    "\n",
    "        movies = smovie_df.iloc[movie_indices][['title', 'vote_count', 'vote_average', 'year']]\n",
    "        vote_counts = movies[movies['vote_count'].notnull()]['vote_count'].astype('int')\n",
    "        vote_averages = movies[movies['vote_average'].notnull()]['vote_average'].astype('int')\n",
    "        C = vote_averages.mean()\n",
    "        m = vote_counts.quantile(0.60)\n",
    "        qualified = movies[(movies['vote_count'] >= m) & (movies['vote_count'].notnull()) & (movies['vote_average'].notnull())]\n",
    "        qualified['vote_count'] = qualified['vote_count'].astype('int')\n",
    "        qualified['vote_average'] = qualified['vote_average'].astype('int')\n",
    "        qualified['wr'] = qualified.apply(weighted_rating, axis=1)\n",
    "        qualified = qualified.sort_values('wr', ascending=False).head(10)\n",
    "#         print(titles.iloc[movie_indices])\n",
    "#         print(qualified)\n",
    "        l = []\n",
    "        for i in qualified['title'].head(10):\n",
    "            l.append(i)\n",
    "    return l"
   ]
  },
  {
   "cell_type": "code",
   "execution_count": 77,
   "id": "31608078",
   "metadata": {},
   "outputs": [
    {
     "name": "stderr",
     "output_type": "stream",
     "text": [
      "/Users/sudeepsawant/miniforge3/envs/mlp/lib/python3.8/site-packages/pandas/core/frame.py:3607: SettingWithCopyWarning: \n",
      "A value is trying to be set on a copy of a slice from a DataFrame.\n",
      "Try using .loc[row_indexer,col_indexer] = value instead\n",
      "\n",
      "See the caveats in the documentation: https://pandas.pydata.org/pandas-docs/stable/user_guide/indexing.html#returning-a-view-versus-a-copy\n",
      "  self._set_item(key, value)\n"
     ]
    },
    {
     "data": {
      "text/plain": [
       "['patch adams',\n",
       " 'bruce almighty',\n",
       " 'cloud atlas',\n",
       " 'ace ventura: pet detective',\n",
       " 'that thing you do!',\n",
       " 'dragonfly',\n",
       " 'larry crowne',\n",
       " 'failure to launch',\n",
       " 'the cobbler',\n",
       " 'evan almighty']"
      ]
     },
     "execution_count": 77,
     "metadata": {},
     "output_type": "execute_result"
    }
   ],
   "source": [
    "recommendations_content('liar liar')"
   ]
  },
  {
   "cell_type": "code",
   "execution_count": 78,
   "id": "b3ceb95e",
   "metadata": {},
   "outputs": [],
   "source": [
    "import scipy.stats"
   ]
  },
  {
   "cell_type": "code",
   "execution_count": 79,
   "id": "ca12eb3d",
   "metadata": {},
   "outputs": [
    {
     "data": {
      "text/plain": [
       "(0.7586402890911867, 0.01096434130168085)"
      ]
     },
     "execution_count": 79,
     "metadata": {},
     "output_type": "execute_result"
    }
   ],
   "source": [
    "x = np.arange(10, 20)\n",
    "y = np.array([2, 1, 4, 5, 8, 12, 18, 25, 96, 48])\n",
    "scipy.stats.pearsonr(x, y) "
   ]
  },
  {
   "cell_type": "code",
   "execution_count": 80,
   "id": "56b3a4f6",
   "metadata": {},
   "outputs": [],
   "source": [
    "from sklearn.metrics.pairwise import sigmoid_kernel\n",
    "from sklearn.feature_extraction.text import TfidfVectorizer\n",
    "def similarity_metadata_sigmoid():\n",
    "    smovie_df = pd.read_csv('content_recom.csv')\n",
    "#     smovie_df=smovie_df.drop(['level_0', 'index'], axis=1)\n",
    "    smovie_df['title']=smovie_df['title'].str.lower()\n",
    "    count = TfidfVectorizer(strip_accents='unicode',analyzer='word',ngram_range=(1, 3),min_df=0, stop_words='english')\n",
    "    count_matrix = count.fit_transform(smovie_df['soup'])\n",
    "#     print(count_matrix[0])\n",
    "    cosine_sim = sigmoid_kernel(count_matrix, count_matrix)\n",
    "    smovie_df = smovie_df.reset_index()\n",
    "    titles = smovie_df['title']\n",
    "    indices = pd.Series(smovie_df.index, index=smovie_df['title'])\n",
    "    return smovie_df,indices,cosine_sim,titles"
   ]
  },
  {
   "cell_type": "code",
   "execution_count": 81,
   "id": "835898e9",
   "metadata": {},
   "outputs": [],
   "source": [
    "def recommendations_content_sigmoid(title):    \n",
    "    m = title.lower()\n",
    "    smovie_df,indices,cosine_sim,titles = similarity_metadata_sigmoid()\n",
    "    if title not in smovie_df['title'].str.lower().unique():\n",
    "        return('Sorry! The movie you requested is not in our database. Please check the spelling or try with some other movies')\n",
    "    else:\n",
    "        \n",
    "        idx = indices[title]\n",
    "        sim_scores = list(enumerate(cosine_sim[idx]))\n",
    "        sim_scores = sorted(sim_scores, key=lambda x: x[1], reverse=True)\n",
    "        sim_scores = sim_scores[1:26]\n",
    "        movie_indices = [i[0] for i in sim_scores]\n",
    "\n",
    "        movies = smovie_df.iloc[movie_indices][['title', 'vote_count', 'vote_average', 'year']]\n",
    "        vote_counts = movies[movies['vote_count'].notnull()]['vote_count'].astype('int')\n",
    "        vote_averages = movies[movies['vote_average'].notnull()]['vote_average'].astype('int')\n",
    "        C = vote_averages.mean()\n",
    "        m = vote_counts.quantile(0.60)\n",
    "        qualified = movies[(movies['vote_count'] >= m) & (movies['vote_count'].notnull()) & (movies['vote_average'].notnull())]\n",
    "        qualified['vote_count'] = qualified['vote_count'].astype('int')\n",
    "        qualified['vote_average'] = qualified['vote_average'].astype('int')\n",
    "        qualified['wr'] = qualified.apply(weighted_rating, axis=1)\n",
    "        qualified = qualified.sort_values('wr', ascending=False).head(10)\n",
    "#         print(titles.iloc[movie_indices])\n",
    "#         print(qualified)\n",
    "        l = []\n",
    "        for i in qualified['title'].head(10):\n",
    "            l.append(i)\n",
    "    return l"
   ]
  },
  {
   "cell_type": "code",
   "execution_count": 82,
   "id": "40b084c7",
   "metadata": {},
   "outputs": [
    {
     "data": {
      "text/plain": [
       "['toy story',\n",
       " 'toy story 2',\n",
       " \"a bug's life\",\n",
       " '2 fast 2 furious',\n",
       " 'the fast and the furious: tokyo drift',\n",
       " 'gone in sixty seconds',\n",
       " 'vacation',\n",
       " 'death race',\n",
       " 'little fockers',\n",
       " 'cars 2']"
      ]
     },
     "execution_count": 82,
     "metadata": {},
     "output_type": "execute_result"
    }
   ],
   "source": [
    "recommendations_content_sigmoid ('cars')"
   ]
  },
  {
   "cell_type": "code",
   "execution_count": 83,
   "id": "b5df3046",
   "metadata": {},
   "outputs": [
    {
     "data": {
      "text/plain": [
       "['toy story',\n",
       " 'toy story 2',\n",
       " \"ferris bueller's day off\",\n",
       " 'an american werewolf in london',\n",
       " 'planes, trains and automobiles',\n",
       " \"a bug's life\",\n",
       " '2 fast 2 furious',\n",
       " 'the fast and the furious: tokyo drift',\n",
       " 'the rescuers',\n",
       " 'cars 2']"
      ]
     },
     "execution_count": 83,
     "metadata": {},
     "output_type": "execute_result"
    }
   ],
   "source": [
    "recommendations_content('cars')"
   ]
  },
  {
   "cell_type": "code",
   "execution_count": 84,
   "id": "640f19d7",
   "metadata": {},
   "outputs": [],
   "source": [
    "def similarity_tags_sigmoid():\n",
    "    movie_df_ex = pd.read_csv('tags_recom.csv')\n",
    "    movie_df_ex=movie_df_ex.drop(['level_0', 'index'], axis=1)\n",
    "    movie_df_ex['title']=movie_df_ex['title'].str.lower()\n",
    "    tf = TfidfVectorizer(analyzer='word',ngram_range=(1, 3),min_df=0, stop_words='english')\n",
    "    \n",
    "    tfidf_mtx = tf.fit_transform(movie_df_ex['description'].astype('U').values)\n",
    "    cosine_sim = sigmoid_kernel(tfidf_mtx, tfidf_mtx)\n",
    "    movie_df_ex = movie_df_ex.reset_index()\n",
    "    titles = movie_df_ex['title']\n",
    "    indices = pd.Series(movie_df_ex.index, index=movie_df_ex['title'])\n",
    "    return movie_df_ex,indices,cosine_sim,titles\n",
    "    \n",
    "def recommendations_tags_sigmoid(title):    \n",
    "#     m = title.lower()\n",
    "    movie_df_ex,indices,cosine_sim,titles = similarity_tags_sigmoid()\n",
    "#     print(movie_df_ex['title'].lower())\n",
    "    if title not in movie_df_ex['title'].str.lower().unique():\n",
    "        return('Sorry! The movie you requested is not in our database. Please check the spelling or try with some other movies')\n",
    "    else:\n",
    "        \n",
    "        idx = indices[title]\n",
    "        sim_scores = list(enumerate(cosine_sim[idx]))\n",
    "        sim_scores = sorted(sim_scores, key=lambda x: x[1], reverse=True)\n",
    "        sim_scores = sim_scores[1:11]\n",
    "        movie_indices = [i[0] for i in sim_scores]\n",
    "        i = titles.iloc[movie_indices]\n",
    "#         print(titles.iloc[movie_indices])\n",
    "        l = []\n",
    "        for i in titles.iloc[movie_indices]:\n",
    "            l.append(i)\n",
    "    return l"
   ]
  },
  {
   "cell_type": "code",
   "execution_count": 85,
   "id": "cbfd063e",
   "metadata": {},
   "outputs": [
    {
     "data": {
      "text/plain": [
       "['all i want for christmas',\n",
       " '16 wishes',\n",
       " 'a goofy movie',\n",
       " 'an extremely goofy movie',\n",
       " 'truly madly deeply',\n",
       " 'go fish',\n",
       " 'the secret life of pets',\n",
       " 'heartbreakers',\n",
       " 'bent',\n",
       " 'kissing a fool']"
      ]
     },
     "execution_count": 85,
     "metadata": {},
     "output_type": "execute_result"
    }
   ],
   "source": [
    "recommendations_tags_sigmoid('liar liar')"
   ]
  },
  {
   "cell_type": "code",
   "execution_count": 86,
   "id": "8a3160cc",
   "metadata": {},
   "outputs": [
    {
     "data": {
      "text/plain": [
       "['a goofy movie',\n",
       " '16 wishes',\n",
       " 'an extremely goofy movie',\n",
       " 'go fish',\n",
       " 'wish upon a star',\n",
       " 'the secret life of pets',\n",
       " 'october sky',\n",
       " 'heartbreakers',\n",
       " 'all i want for christmas',\n",
       " 'rushmore']"
      ]
     },
     "execution_count": 86,
     "metadata": {},
     "output_type": "execute_result"
    }
   ],
   "source": [
    "recommendations_tags('liar liar')"
   ]
  },
  {
   "cell_type": "code",
   "execution_count": 87,
   "id": "5dd92083",
   "metadata": {},
   "outputs": [],
   "source": [
    "from scipy import sparse\n",
    "def get_similar(movie_name,rating,corrMatrix):\n",
    "    similar_ratings = corrMatrix[movie_name]*(rating-2.5)\n",
    "    similar_ratings = similar_ratings.sort_values(ascending=False)\n",
    "    #print(type(similar_ratings))\n",
    "    \n",
    "    return similar_ratings\n",
    "\n",
    "def colab(movie_name,rating):\n",
    "    userRatings = pd.read_csv('ratings.csv')\n",
    "    corrMatrix = userRatings.corr(method='pearson')\n",
    "#     corrMatrix.head(100)\n",
    "    similar_movies = pd.DataFrame()\n",
    "    \n",
    "\n",
    "\n",
    "    return get_similar(movie_name,rating,corrMatrix).head(10) "
   ]
  },
  {
   "cell_type": "code",
   "execution_count": null,
   "id": "9b9bccb2",
   "metadata": {},
   "outputs": [],
   "source": []
  }
 ],
 "metadata": {
  "kernelspec": {
   "display_name": "Python 3 (ipykernel)",
   "language": "python",
   "name": "python3"
  },
  "language_info": {
   "codemirror_mode": {
    "name": "ipython",
    "version": 3
   },
   "file_extension": ".py",
   "mimetype": "text/x-python",
   "name": "python",
   "nbconvert_exporter": "python",
   "pygments_lexer": "ipython3",
   "version": "3.8.10"
  }
 },
 "nbformat": 4,
 "nbformat_minor": 5
}
